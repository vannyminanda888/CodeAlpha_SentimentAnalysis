{
 "cells": [
  {
   "cell_type": "code",
   "execution_count": 2,
   "id": "65b66567",
   "metadata": {},
   "outputs": [],
   "source": [
    "import matplotlib.pyplot as plt\n",
    "import pandas as pd\n",
    "import numpy as np\n",
    "import re\n",
    "from sklearn.linear_model import LogisticRegression\n",
    "from sklearn.model_selection import train_test_split\n",
    "from sklearn.feature_extraction.text import TfidfVectorizer\n",
    "from sklearn.metrics import confusion_matrix, classification_report\n",
    "import nltk\n",
    "# nltk.download('wordnet')\n",
    "# nltk.download('punkt')\n",
    "import string\n",
    "\n",
    "data = pd.read_pickle('final cleaned data input without any embedding.pkl')"
   ]
  },
  {
   "cell_type": "code",
   "execution_count": 3,
   "id": "82445531-800b-44e8-9159-5d0a270c36bf",
   "metadata": {},
   "outputs": [
    {
     "data": {
      "text/html": [
       "<div>\n",
       "<style scoped>\n",
       "    .dataframe tbody tr th:only-of-type {\n",
       "        vertical-align: middle;\n",
       "    }\n",
       "\n",
       "    .dataframe tbody tr th {\n",
       "        vertical-align: top;\n",
       "    }\n",
       "\n",
       "    .dataframe thead th {\n",
       "        text-align: right;\n",
       "    }\n",
       "</style>\n",
       "<table border=\"1\" class=\"dataframe\">\n",
       "  <thead>\n",
       "    <tr style=\"text-align: right;\">\n",
       "      <th></th>\n",
       "      <th>label</th>\n",
       "      <th>tweet</th>\n",
       "    </tr>\n",
       "  </thead>\n",
       "  <tbody>\n",
       "    <tr>\n",
       "      <th>0</th>\n",
       "      <td>0</td>\n",
       "      <td>[upset, cant, update, facebook, texting, it, m...</td>\n",
       "    </tr>\n",
       "    <tr>\n",
       "      <th>1</th>\n",
       "      <td>0</td>\n",
       "      <td>[i, dive, many, time, ball, manage, save, 0, t...</td>\n",
       "    </tr>\n",
       "    <tr>\n",
       "      <th>2</th>\n",
       "      <td>0</td>\n",
       "      <td>[whole, body, feel, itchy, like, fire]</td>\n",
       "    </tr>\n",
       "    <tr>\n",
       "      <th>3</th>\n",
       "      <td>0</td>\n",
       "      <td>[no, it, not, behave, all, im, mad, here, i, c...</td>\n",
       "    </tr>\n",
       "    <tr>\n",
       "      <th>4</th>\n",
       "      <td>0</td>\n",
       "      <td>[not, whole, crew]</td>\n",
       "    </tr>\n",
       "    <tr>\n",
       "      <th>...</th>\n",
       "      <td>...</td>\n",
       "      <td>...</td>\n",
       "    </tr>\n",
       "    <tr>\n",
       "      <th>1599994</th>\n",
       "      <td>1</td>\n",
       "      <td>[just, wake, up, have, no, school, best, feeli...</td>\n",
       "    </tr>\n",
       "    <tr>\n",
       "      <th>1599995</th>\n",
       "      <td>1</td>\n",
       "      <td>[thewdbcom, very, cool, hear, old, walt, inter...</td>\n",
       "    </tr>\n",
       "    <tr>\n",
       "      <th>1599996</th>\n",
       "      <td>1</td>\n",
       "      <td>[be, ready, mojo, makeover, ask, detail]</td>\n",
       "    </tr>\n",
       "    <tr>\n",
       "      <th>1599997</th>\n",
       "      <td>1</td>\n",
       "      <td>[happy, th, birthday, boo, alll, time, tupac, ...</td>\n",
       "    </tr>\n",
       "    <tr>\n",
       "      <th>1599998</th>\n",
       "      <td>1</td>\n",
       "      <td>[happy]</td>\n",
       "    </tr>\n",
       "  </tbody>\n",
       "</table>\n",
       "<p>1599999 rows × 2 columns</p>\n",
       "</div>"
      ],
      "text/plain": [
       "         label                                              tweet\n",
       "0            0  [upset, cant, update, facebook, texting, it, m...\n",
       "1            0  [i, dive, many, time, ball, manage, save, 0, t...\n",
       "2            0             [whole, body, feel, itchy, like, fire]\n",
       "3            0  [no, it, not, behave, all, im, mad, here, i, c...\n",
       "4            0                                 [not, whole, crew]\n",
       "...        ...                                                ...\n",
       "1599994      1  [just, wake, up, have, no, school, best, feeli...\n",
       "1599995      1  [thewdbcom, very, cool, hear, old, walt, inter...\n",
       "1599996      1           [be, ready, mojo, makeover, ask, detail]\n",
       "1599997      1  [happy, th, birthday, boo, alll, time, tupac, ...\n",
       "1599998      1                                            [happy]\n",
       "\n",
       "[1599999 rows x 2 columns]"
      ]
     },
     "execution_count": 3,
     "metadata": {},
     "output_type": "execute_result"
    }
   ],
   "source": [
    "data"
   ]
  },
  {
   "cell_type": "markdown",
   "id": "fb77b021-6de0-4ac7-a72b-925f490c3462",
   "metadata": {},
   "source": [
    "# BERT (Bidirectional Encoder Representations from Transformers)"
   ]
  },
  {
   "cell_type": "code",
   "execution_count": 9,
   "id": "5c8f306a-2994-403f-92c0-8f07eb80de62",
   "metadata": {},
   "outputs": [],
   "source": [
    "data['tweet'] = data['tweet'].astype(str)  # ensure they're strings\n",
    "data['tweet'] = data['tweet'].str.strip()  # remove whitespace\n",
    "data = data[data['tweet'].str.len() > 0]   # keep only non-empty tweets"
   ]
  },
  {
   "cell_type": "code",
   "execution_count": 15,
   "id": "ff8fea6a-94c1-4ef1-8eac-6f0f80c49873",
   "metadata": {},
   "outputs": [
    {
     "name": "stderr",
     "output_type": "stream",
     "text": [
      "C:\\Users\\HP-Miko\\AppData\\Local\\Temp\\ipykernel_55116\\12314225.py:15: SettingWithCopyWarning: \n",
      "A value is trying to be set on a copy of a slice from a DataFrame.\n",
      "Try using .loc[row_indexer,col_indexer] = value instead\n",
      "\n",
      "See the caveats in the documentation: https://pandas.pydata.org/pandas-docs/stable/user_guide/indexing.html#returning-a-view-versus-a-copy\n",
      "  data['tweet'] = data['tweet'].astype(str)\n",
      "Embedding tweets:   0%|                                                                    | 0/1595385 [00:00<?, ?it/s]C:\\Users\\HP-Miko\\miniconda3\\Lib\\site-packages\\transformers\\models\\bert\\modeling_bert.py:440: UserWarning: 1Torch was not compiled with flash attention. (Triggered internally at C:\\cb\\pytorch_1000000000000\\work\\aten\\src\\ATen\\native\\transformers\\cuda\\sdp_utils.cpp:455.)\n",
      "  attn_output = torch.nn.functional.scaled_dot_product_attention(\n",
      "Embedding tweets: 100%|████████████████████████████████████████████████████| 1595385/1595385 [5:01:46<00:00, 88.11it/s]\n"
     ]
    }
   ],
   "source": [
    "import torch\n",
    "from transformers import BertTokenizer, BertModel\n",
    "from tqdm import tqdm\n",
    "\n",
    "# Load pretrained tokenizer and model\n",
    "tokenizer = BertTokenizer.from_pretrained('bert-base-uncased')\n",
    "bert_model = BertModel.from_pretrained('bert-base-uncased')\n",
    "bert_model.eval()  # set to evaluation mode\n",
    "\n",
    "# Optional: move model to GPU if available\n",
    "device = torch.device('cuda' if torch.cuda.is_available() else 'cpu')\n",
    "bert_model.to(device)\n",
    "\n",
    "# Clean your tweets (make sure they're strings)\n",
    "data['tweet'] = data['tweet'].astype(str)\n",
    "\n",
    "# Store embeddings here\n",
    "tweet_embeddings = []\n",
    "\n",
    "# Loop through tweets\n",
    "for tweet in tqdm(data['tweet'], desc=\"Embedding tweets\"):\n",
    "    # Tokenize the tweet\n",
    "    inputs = tokenizer(tweet, return_tensors='pt', truncation=True, padding=True, max_length=128)\n",
    "    inputs = {key: val.to(device) for key, val in inputs.items()}  # move to device\n",
    "\n",
    "    # Get BERT embeddings\n",
    "    with torch.no_grad():\n",
    "        outputs = bert_model(**inputs)\n",
    "        cls_embedding = outputs.last_hidden_state[:, 0, :]  # [CLS] token embedding\n",
    "        tweet_embeddings.append(cls_embedding.squeeze().cpu().numpy())"
   ]
  },
  {
   "cell_type": "code",
   "execution_count": 17,
   "id": "9bc94ab6-dab6-4b61-b25a-29b632b67647",
   "metadata": {},
   "outputs": [
    {
     "name": "stdout",
     "output_type": "stream",
     "text": [
      "Shape of BERT embeddings: (1595385, 768)\n"
     ]
    }
   ],
   "source": [
    "X = np.array(tweet_embeddings)\n",
    "print(\"Shape of BERT embeddings:\", X.shape)  # e.g., (1000, 768)"
   ]
  },
  {
   "cell_type": "code",
   "execution_count": 18,
   "id": "a56b24c2-7c35-4912-bbcf-0ba32422e5ba",
   "metadata": {},
   "outputs": [],
   "source": [
    "y = data['label'].to_numpy()"
   ]
  },
  {
   "cell_type": "code",
   "execution_count": 19,
   "id": "9f4b9d2d-9a71-4b02-81a1-981b0637cff1",
   "metadata": {},
   "outputs": [
    {
     "data": {
      "text/plain": [
       "array([0, 0, 0, ..., 1, 1, 1], dtype=int64)"
      ]
     },
     "execution_count": 19,
     "metadata": {},
     "output_type": "execute_result"
    }
   ],
   "source": [
    "y"
   ]
  },
  {
   "cell_type": "markdown",
   "id": "5a5bad15-8a15-417d-b3d9-0acb554b27e4",
   "metadata": {},
   "source": [
    "# Logistic Regression"
   ]
  },
  {
   "cell_type": "code",
   "execution_count": 20,
   "id": "2e884011",
   "metadata": {},
   "outputs": [
    {
     "name": "stdout",
     "output_type": "stream",
     "text": [
      "Accuracy: 0.6375\n",
      "\n",
      "Classification Report:\n",
      "              precision    recall  f1-score   support\n",
      "\n",
      "           0       0.63      0.65      0.64     79461\n",
      "           1       0.64      0.62      0.63     80078\n",
      "\n",
      "    accuracy                           0.64    159539\n",
      "   macro avg       0.64      0.64      0.64    159539\n",
      "weighted avg       0.64      0.64      0.64    159539\n",
      "\n"
     ]
    },
    {
     "data": {
      "image/png": "[encoded data removed]",
      "text/plain": [
       "<Figure size 800x600 with 2 Axes>"
      ]
     },
     "metadata": {},
     "output_type": "display_data"
    }
   ],
   "source": [
    "from sklearn.model_selection import train_test_split\n",
    "from sklearn.linear_model import LogisticRegression\n",
    "from sklearn.metrics import accuracy_score, classification_report, confusion_matrix\n",
    "import matplotlib.pyplot as plt\n",
    "import seaborn as sns\n",
    "\n",
    "# Split your data\n",
    "X_train, X_test, y_train, y_test = train_test_split(X, y, test_size=0.1, random_state=42)\n",
    "\n",
    "# Train the Logistic Regression model\n",
    "model = LogisticRegression(solver='liblinear', penalty='l2', random_state=42)\n",
    "model.fit(X_train, y_train)\n",
    "\n",
    "# Make predictions on the test set\n",
    "y_pred = model.predict(X_test)\n",
    "\n",
    "# Evaluate the model's performance\n",
    "accuracy = accuracy_score(y_test, y_pred)\n",
    "print(f\"Accuracy: {accuracy:.4f}\")\n",
    "\n",
    "print(\"\\nClassification Report:\")\n",
    "print(classification_report(y_test, y_pred)) # No need for target_names if you're okay with numerical labels\n",
    "\n",
    "cm = confusion_matrix(y_test, y_pred)\n",
    "plt.figure(figsize=(8, 6))\n",
    "sns.heatmap(cm, annot=True, fmt='d', cmap='Blues',\n",
    "            xticklabels=sorted(data['label'].unique()), # Use unique numerical labels for x-axis\n",
    "            yticklabels=sorted(data['label'].unique())) # Use unique numerical labels for y-axis\n",
    "plt.xlabel('Predicted Label')\n",
    "plt.ylabel('True Label')\n",
    "plt.title('Confusion Matrix')\n",
    "plt.show()"
   ]
  },
  {
   "cell_type": "code",
   "execution_count": null,
   "id": "0aac59cd-4333-42ef-8370-9e25ae8e04a3",
   "metadata": {},
   "outputs": [],
   "source": []
  }
 ],
 "metadata": {
  "kernelspec": {
   "display_name": "Python 3 (ipykernel)",
   "language": "python",
   "name": "python3"
  },
  "language_info": {
   "codemirror_mode": {
    "name": "ipython",
    "version": 3
   },
   "file_extension": ".py",
   "mimetype": "text/x-python",
   "name": "python",
   "nbconvert_exporter": "python",
   "pygments_lexer": "ipython3",
   "version": "3.12.4"
  }
 },
 "nbformat": 4,
 "nbformat_minor": 5
}
