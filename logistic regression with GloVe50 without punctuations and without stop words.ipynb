{
 "cells": [
  {
   "cell_type": "code",
   "execution_count": 9,
   "id": "65b66567",
   "metadata": {},
   "outputs": [],
   "source": [
    "import matplotlib.pyplot as plt\n",
    "import pandas as pd\n",
    "import numpy as np\n",
    "import re\n",
    "from sklearn.linear_model import LogisticRegression\n",
    "from sklearn.model_selection import train_test_split\n",
    "from sklearn.feature_extraction.text import TfidfVectorizer\n",
    "from sklearn.metrics import confusion_matrix, classification_report\n",
    "import nltk\n",
    "# nltk.download('wordnet')\n",
    "# nltk.download('punkt')\n",
    "import string\n",
    "\n",
    "data = pd.read_pickle('final cleaned data input without any embedding without punctuation without stop words without lemmatization.pkl')"
   ]
  },
  {
   "cell_type": "code",
   "execution_count": 10,
   "id": "82445531-800b-44e8-9159-5d0a270c36bf",
   "metadata": {},
   "outputs": [
    {
     "data": {
      "text/html": [
       "<div>\n",
       "<style scoped>\n",
       "    .dataframe tbody tr th:only-of-type {\n",
       "        vertical-align: middle;\n",
       "    }\n",
       "\n",
       "    .dataframe tbody tr th {\n",
       "        vertical-align: top;\n",
       "    }\n",
       "\n",
       "    .dataframe thead th {\n",
       "        text-align: right;\n",
       "    }\n",
       "</style>\n",
       "<table border=\"1\" class=\"dataframe\">\n",
       "  <thead>\n",
       "    <tr style=\"text-align: right;\">\n",
       "      <th></th>\n",
       "      <th>label</th>\n",
       "      <th>tweet</th>\n",
       "    </tr>\n",
       "  </thead>\n",
       "  <tbody>\n",
       "    <tr>\n",
       "      <th>0</th>\n",
       "      <td>0</td>\n",
       "      <td>[is, upset, that, he, can, t, update, his, fac...</td>\n",
       "    </tr>\n",
       "    <tr>\n",
       "      <th>1</th>\n",
       "      <td>0</td>\n",
       "      <td>[i, dived, many, times, for, the, ball, manage...</td>\n",
       "    </tr>\n",
       "    <tr>\n",
       "      <th>2</th>\n",
       "      <td>0</td>\n",
       "      <td>[my, whole, body, feels, itchy, and, like, its...</td>\n",
       "    </tr>\n",
       "    <tr>\n",
       "      <th>3</th>\n",
       "      <td>0</td>\n",
       "      <td>[no, it, s, not, behaving, at, all, i, m, mad,...</td>\n",
       "    </tr>\n",
       "    <tr>\n",
       "      <th>4</th>\n",
       "      <td>0</td>\n",
       "      <td>[not, the, whole, crew]</td>\n",
       "    </tr>\n",
       "    <tr>\n",
       "      <th>...</th>\n",
       "      <td>...</td>\n",
       "      <td>...</td>\n",
       "    </tr>\n",
       "    <tr>\n",
       "      <th>1599994</th>\n",
       "      <td>1</td>\n",
       "      <td>[just, woke, up, having, no, school, is, the, ...</td>\n",
       "    </tr>\n",
       "    <tr>\n",
       "      <th>1599995</th>\n",
       "      <td>1</td>\n",
       "      <td>[thewdb, com, very, cool, to, hear, old, walt,...</td>\n",
       "    </tr>\n",
       "    <tr>\n",
       "      <th>1599996</th>\n",
       "      <td>1</td>\n",
       "      <td>[are, you, ready, for, your, mojo, makeover, a...</td>\n",
       "    </tr>\n",
       "    <tr>\n",
       "      <th>1599997</th>\n",
       "      <td>1</td>\n",
       "      <td>[happy, th, birthday, to, my, boo, of, alll, t...</td>\n",
       "    </tr>\n",
       "    <tr>\n",
       "      <th>1599998</th>\n",
       "      <td>1</td>\n",
       "      <td>[happy]</td>\n",
       "    </tr>\n",
       "  </tbody>\n",
       "</table>\n",
       "<p>1599999 rows × 2 columns</p>\n",
       "</div>"
      ],
      "text/plain": [
       "         label                                              tweet\n",
       "0            0  [is, upset, that, he, can, t, update, his, fac...\n",
       "1            0  [i, dived, many, times, for, the, ball, manage...\n",
       "2            0  [my, whole, body, feels, itchy, and, like, its...\n",
       "3            0  [no, it, s, not, behaving, at, all, i, m, mad,...\n",
       "4            0                            [not, the, whole, crew]\n",
       "...        ...                                                ...\n",
       "1599994      1  [just, woke, up, having, no, school, is, the, ...\n",
       "1599995      1  [thewdb, com, very, cool, to, hear, old, walt,...\n",
       "1599996      1  [are, you, ready, for, your, mojo, makeover, a...\n",
       "1599997      1  [happy, th, birthday, to, my, boo, of, alll, t...\n",
       "1599998      1                                            [happy]\n",
       "\n",
       "[1599999 rows x 2 columns]"
      ]
     },
     "execution_count": 10,
     "metadata": {},
     "output_type": "execute_result"
    }
   ],
   "source": [
    "data"
   ]
  },
  {
   "cell_type": "markdown",
   "id": "fb77b021-6de0-4ac7-a72b-925f490c3462",
   "metadata": {},
   "source": [
    "# GloVe50 embedding"
   ]
  },
  {
   "cell_type": "code",
   "execution_count": 11,
   "id": "867736ff-a686-4ebf-af85-791ecd467b7f",
   "metadata": {},
   "outputs": [],
   "source": [
    "from nltk.tokenize import word_tokenize\n",
    "import gensim.downloader as api\n",
    "\n",
    "#load pretrained glove50 model\n",
    "wv = api.load('glove-wiki-gigaword-50')\n",
    "\n",
    "def get_embedding(text):\n",
    "    tokens = word_tokenize(text)\n",
    "    embeddings = [wv[word] for word in tokens if word in wv]\n",
    "    if not embeddings:\n",
    "        return np.zeros(wv.vector_size)\n",
    "    return np.mean(embeddings, axis=0)"
   ]
  },
  {
   "cell_type": "code",
   "execution_count": 12,
   "id": "905d0fe2-ddad-4d28-9f53-eaffe540e548",
   "metadata": {},
   "outputs": [],
   "source": [
    "# convert into numerical vals with glove50\n",
    "data['embedding'] = data['tweet'].apply(lambda x: get_embedding(str(x)))"
   ]
  },
  {
   "cell_type": "code",
   "execution_count": 13,
   "id": "a03d9b81-9e45-49a5-beb6-8e181eba6327",
   "metadata": {},
   "outputs": [
    {
     "data": {
      "text/html": [
       "<div>\n",
       "<style scoped>\n",
       "    .dataframe tbody tr th:only-of-type {\n",
       "        vertical-align: middle;\n",
       "    }\n",
       "\n",
       "    .dataframe tbody tr th {\n",
       "        vertical-align: top;\n",
       "    }\n",
       "\n",
       "    .dataframe thead th {\n",
       "        text-align: right;\n",
       "    }\n",
       "</style>\n",
       "<table border=\"1\" class=\"dataframe\">\n",
       "  <thead>\n",
       "    <tr style=\"text-align: right;\">\n",
       "      <th></th>\n",
       "      <th>label</th>\n",
       "      <th>tweet</th>\n",
       "      <th>embedding</th>\n",
       "    </tr>\n",
       "  </thead>\n",
       "  <tbody>\n",
       "    <tr>\n",
       "      <th>0</th>\n",
       "      <td>0</td>\n",
       "      <td>[is, upset, that, he, can, t, update, his, fac...</td>\n",
       "      <td>[-0.03506139, 0.74029523, 0.10199339, -0.08994...</td>\n",
       "    </tr>\n",
       "    <tr>\n",
       "      <th>1</th>\n",
       "      <td>0</td>\n",
       "      <td>[i, dived, many, times, for, the, ball, manage...</td>\n",
       "      <td>[-0.04911935, 0.75016236, 0.127243, -0.0971912...</td>\n",
       "    </tr>\n",
       "    <tr>\n",
       "      <th>2</th>\n",
       "      <td>0</td>\n",
       "      <td>[my, whole, body, feels, itchy, and, like, its...</td>\n",
       "      <td>[-0.07211574, 0.75428957, 0.12795284, -0.09344...</td>\n",
       "    </tr>\n",
       "    <tr>\n",
       "      <th>3</th>\n",
       "      <td>0</td>\n",
       "      <td>[no, it, s, not, behaving, at, all, i, m, mad,...</td>\n",
       "      <td>[-0.036138035, 0.7085526, 0.10402102, -0.14649...</td>\n",
       "    </tr>\n",
       "    <tr>\n",
       "      <th>4</th>\n",
       "      <td>0</td>\n",
       "      <td>[not, the, whole, crew]</td>\n",
       "      <td>[-0.15098476, 0.799729, 0.17520997, -0.1177110...</td>\n",
       "    </tr>\n",
       "    <tr>\n",
       "      <th>5</th>\n",
       "      <td>0</td>\n",
       "      <td>[need, a, hug]</td>\n",
       "      <td>[-0.12836154, 0.82509893, 0.14203443, -0.15200...</td>\n",
       "    </tr>\n",
       "  </tbody>\n",
       "</table>\n",
       "</div>"
      ],
      "text/plain": [
       "   label                                              tweet  \\\n",
       "0      0  [is, upset, that, he, can, t, update, his, fac...   \n",
       "1      0  [i, dived, many, times, for, the, ball, manage...   \n",
       "2      0  [my, whole, body, feels, itchy, and, like, its...   \n",
       "3      0  [no, it, s, not, behaving, at, all, i, m, mad,...   \n",
       "4      0                            [not, the, whole, crew]   \n",
       "5      0                                     [need, a, hug]   \n",
       "\n",
       "                                           embedding  \n",
       "0  [-0.03506139, 0.74029523, 0.10199339, -0.08994...  \n",
       "1  [-0.04911935, 0.75016236, 0.127243, -0.0971912...  \n",
       "2  [-0.07211574, 0.75428957, 0.12795284, -0.09344...  \n",
       "3  [-0.036138035, 0.7085526, 0.10402102, -0.14649...  \n",
       "4  [-0.15098476, 0.799729, 0.17520997, -0.1177110...  \n",
       "5  [-0.12836154, 0.82509893, 0.14203443, -0.15200...  "
      ]
     },
     "execution_count": 13,
     "metadata": {},
     "output_type": "execute_result"
    }
   ],
   "source": [
    "data.head(6)"
   ]
  },
  {
   "cell_type": "code",
   "execution_count": 14,
   "id": "4c94c356-8275-4af7-9578-5b13038d4d0a",
   "metadata": {},
   "outputs": [],
   "source": [
    "X = data['embedding']\n",
    "X = np.stack(data['embedding'].values)"
   ]
  },
  {
   "cell_type": "code",
   "execution_count": 15,
   "id": "2f8e0313-539c-4404-8819-77e0ebf3c973",
   "metadata": {},
   "outputs": [],
   "source": [
    "y = data['label'].to_numpy()"
   ]
  },
  {
   "cell_type": "markdown",
   "id": "5a5bad15-8a15-417d-b3d9-0acb554b27e4",
   "metadata": {},
   "source": [
    "# Logistic Regression"
   ]
  },
  {
   "cell_type": "code",
   "execution_count": 16,
   "id": "2e884011",
   "metadata": {},
   "outputs": [
    {
     "name": "stdout",
     "output_type": "stream",
     "text": [
      "Accuracy: 0.5751\n",
      "\n",
      "Classification Report:\n",
      "              precision    recall  f1-score   support\n",
      "\n",
      "           0       0.59      0.48      0.53     79812\n",
      "           1       0.56      0.67      0.61     80188\n",
      "\n",
      "    accuracy                           0.58    160000\n",
      "   macro avg       0.58      0.57      0.57    160000\n",
      "weighted avg       0.58      0.58      0.57    160000\n",
      "\n"
     ]
    },
    {
     "data": {
      "image/png": "[encoded data removed]",
      "text/plain": [
       "<Figure size 800x600 with 2 Axes>"
      ]
     },
     "metadata": {},
     "output_type": "display_data"
    }
   ],
   "source": [
    "from sklearn.model_selection import train_test_split\n",
    "from sklearn.linear_model import LogisticRegression\n",
    "from sklearn.metrics import accuracy_score, classification_report, confusion_matrix\n",
    "import matplotlib.pyplot as plt\n",
    "import seaborn as sns\n",
    "\n",
    "# Split your data\n",
    "X_train, X_test, y_train, y_test = train_test_split(X, y, test_size=0.1, random_state=42)\n",
    "\n",
    "# Train the Logistic Regression model\n",
    "model = LogisticRegression(solver='liblinear', penalty='l2', random_state=42)\n",
    "model.fit(X_train, y_train)\n",
    "\n",
    "# Make predictions on the test set\n",
    "y_pred = model.predict(X_test)\n",
    "\n",
    "# Evaluate the model's performance\n",
    "accuracy = accuracy_score(y_test, y_pred)\n",
    "print(f\"Accuracy: {accuracy:.4f}\")\n",
    "\n",
    "print(\"\\nClassification Report:\")\n",
    "print(classification_report(y_test, y_pred)) # No need for target_names if you're okay with numerical labels\n",
    "\n",
    "cm = confusion_matrix(y_test, y_pred)\n",
    "plt.figure(figsize=(8, 6))\n",
    "sns.heatmap(cm, annot=True, fmt='d', cmap='Blues',\n",
    "            xticklabels=sorted(data['label'].unique()), # Use unique numerical labels for x-axis\n",
    "            yticklabels=sorted(data['label'].unique())) # Use unique numerical labels for y-axis\n",
    "plt.xlabel('Predicted Label')\n",
    "plt.ylabel('True Label')\n",
    "plt.title('Confusion Matrix')\n",
    "plt.show()"
   ]
  },
  {
   "cell_type": "code",
   "execution_count": null,
   "id": "0aac59cd-4333-42ef-8370-9e25ae8e04a3",
   "metadata": {},
   "outputs": [],
   "source": []
  }
 ],
 "metadata": {
  "kernelspec": {
   "display_name": "Python 3 (ipykernel)",
   "language": "python",
   "name": "python3"
  },
  "language_info": {
   "codemirror_mode": {
    "name": "ipython",
    "version": 3
   },
   "file_extension": ".py",
   "mimetype": "text/x-python",
   "name": "python",
   "nbconvert_exporter": "python",
   "pygments_lexer": "ipython3",
   "version": "3.12.4"
  }
 },
 "nbformat": 4,
 "nbformat_minor": 5
}
