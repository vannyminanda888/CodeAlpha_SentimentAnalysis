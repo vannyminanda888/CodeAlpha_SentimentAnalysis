{
 "cells": [
  {
   "cell_type": "code",
   "execution_count": 1,
   "id": "65b66567",
   "metadata": {},
   "outputs": [],
   "source": [
    "import matplotlib.pyplot as plt\n",
    "import pandas as pd\n",
    "import numpy as np\n",
    "import re\n",
    "from sklearn.linear_model import LogisticRegression\n",
    "from sklearn.model_selection import train_test_split\n",
    "from sklearn.feature_extraction.text import TfidfVectorizer\n",
    "from sklearn.metrics import confusion_matrix, classification_report\n",
    "import nltk\n",
    "# nltk.download('wordnet')\n",
    "# nltk.download('punkt')\n",
    "import string\n",
    "\n",
    "data = pd.read_pickle('final cleaned data input without any embedding.pkl')"
   ]
  },
  {
   "cell_type": "code",
   "execution_count": 3,
   "id": "82445531-800b-44e8-9159-5d0a270c36bf",
   "metadata": {},
   "outputs": [
    {
     "data": {
      "text/html": [
       "<div>\n",
       "<style scoped>\n",
       "    .dataframe tbody tr th:only-of-type {\n",
       "        vertical-align: middle;\n",
       "    }\n",
       "\n",
       "    .dataframe tbody tr th {\n",
       "        vertical-align: top;\n",
       "    }\n",
       "\n",
       "    .dataframe thead th {\n",
       "        text-align: right;\n",
       "    }\n",
       "</style>\n",
       "<table border=\"1\" class=\"dataframe\">\n",
       "  <thead>\n",
       "    <tr style=\"text-align: right;\">\n",
       "      <th></th>\n",
       "      <th>label</th>\n",
       "      <th>tweet</th>\n",
       "    </tr>\n",
       "  </thead>\n",
       "  <tbody>\n",
       "    <tr>\n",
       "      <th>0</th>\n",
       "      <td>0</td>\n",
       "      <td>[upset, cant, update, facebook, texting, it, m...</td>\n",
       "    </tr>\n",
       "    <tr>\n",
       "      <th>1</th>\n",
       "      <td>0</td>\n",
       "      <td>[i, dive, many, time, ball, manage, save, 0, t...</td>\n",
       "    </tr>\n",
       "    <tr>\n",
       "      <th>2</th>\n",
       "      <td>0</td>\n",
       "      <td>[whole, body, feel, itchy, like, fire]</td>\n",
       "    </tr>\n",
       "    <tr>\n",
       "      <th>3</th>\n",
       "      <td>0</td>\n",
       "      <td>[no, it, not, behave, all, im, mad, here, i, c...</td>\n",
       "    </tr>\n",
       "    <tr>\n",
       "      <th>4</th>\n",
       "      <td>0</td>\n",
       "      <td>[not, whole, crew]</td>\n",
       "    </tr>\n",
       "    <tr>\n",
       "      <th>...</th>\n",
       "      <td>...</td>\n",
       "      <td>...</td>\n",
       "    </tr>\n",
       "    <tr>\n",
       "      <th>1599994</th>\n",
       "      <td>1</td>\n",
       "      <td>[just, wake, up, have, no, school, best, feeli...</td>\n",
       "    </tr>\n",
       "    <tr>\n",
       "      <th>1599995</th>\n",
       "      <td>1</td>\n",
       "      <td>[thewdbcom, very, cool, hear, old, walt, inter...</td>\n",
       "    </tr>\n",
       "    <tr>\n",
       "      <th>1599996</th>\n",
       "      <td>1</td>\n",
       "      <td>[be, ready, mojo, makeover, ask, detail]</td>\n",
       "    </tr>\n",
       "    <tr>\n",
       "      <th>1599997</th>\n",
       "      <td>1</td>\n",
       "      <td>[happy, th, birthday, boo, alll, time, tupac, ...</td>\n",
       "    </tr>\n",
       "    <tr>\n",
       "      <th>1599998</th>\n",
       "      <td>1</td>\n",
       "      <td>[happy]</td>\n",
       "    </tr>\n",
       "  </tbody>\n",
       "</table>\n",
       "<p>1599999 rows × 2 columns</p>\n",
       "</div>"
      ],
      "text/plain": [
       "         label                                              tweet\n",
       "0            0  [upset, cant, update, facebook, texting, it, m...\n",
       "1            0  [i, dive, many, time, ball, manage, save, 0, t...\n",
       "2            0             [whole, body, feel, itchy, like, fire]\n",
       "3            0  [no, it, not, behave, all, im, mad, here, i, c...\n",
       "4            0                                 [not, whole, crew]\n",
       "...        ...                                                ...\n",
       "1599994      1  [just, wake, up, have, no, school, best, feeli...\n",
       "1599995      1  [thewdbcom, very, cool, hear, old, walt, inter...\n",
       "1599996      1           [be, ready, mojo, makeover, ask, detail]\n",
       "1599997      1  [happy, th, birthday, boo, alll, time, tupac, ...\n",
       "1599998      1                                            [happy]\n",
       "\n",
       "[1599999 rows x 2 columns]"
      ]
     },
     "execution_count": 3,
     "metadata": {},
     "output_type": "execute_result"
    }
   ],
   "source": [
    "data"
   ]
  },
  {
   "cell_type": "markdown",
   "id": "fb77b021-6de0-4ac7-a72b-925f490c3462",
   "metadata": {},
   "source": [
    "# GloVe50 embedding"
   ]
  },
  {
   "cell_type": "code",
   "execution_count": 8,
   "id": "867736ff-a686-4ebf-af85-791ecd467b7f",
   "metadata": {},
   "outputs": [],
   "source": [
    "from nltk.tokenize import word_tokenize\n",
    "import gensim.downloader as api\n",
    "\n",
    "#load pretrained glove50 model\n",
    "wv = api.load('glove-wiki-gigaword-50')\n",
    "\n",
    "def get_embedding(text):\n",
    "    tokens = word_tokenize(text)\n",
    "    embeddings = [wv[word] for word in tokens if word in wv]\n",
    "    if not embeddings:\n",
    "        return np.zeros(wv.vector_size)\n",
    "    return np.mean(embeddings, axis=0)"
   ]
  },
  {
   "cell_type": "code",
   "execution_count": 10,
   "id": "905d0fe2-ddad-4d28-9f53-eaffe540e548",
   "metadata": {},
   "outputs": [],
   "source": [
    "# convert into numerical vals with glove50\n",
    "data['embedding'] = data['tweet'].apply(lambda x: get_embedding(str(x)))"
   ]
  },
  {
   "cell_type": "code",
   "execution_count": 11,
   "id": "a03d9b81-9e45-49a5-beb6-8e181eba6327",
   "metadata": {},
   "outputs": [
    {
     "data": {
      "text/html": [
       "<div>\n",
       "<style scoped>\n",
       "    .dataframe tbody tr th:only-of-type {\n",
       "        vertical-align: middle;\n",
       "    }\n",
       "\n",
       "    .dataframe tbody tr th {\n",
       "        vertical-align: top;\n",
       "    }\n",
       "\n",
       "    .dataframe thead th {\n",
       "        text-align: right;\n",
       "    }\n",
       "</style>\n",
       "<table border=\"1\" class=\"dataframe\">\n",
       "  <thead>\n",
       "    <tr style=\"text-align: right;\">\n",
       "      <th></th>\n",
       "      <th>label</th>\n",
       "      <th>tweet</th>\n",
       "      <th>embedding</th>\n",
       "    </tr>\n",
       "  </thead>\n",
       "  <tbody>\n",
       "    <tr>\n",
       "      <th>0</th>\n",
       "      <td>0</td>\n",
       "      <td>[upset, cant, update, facebook, texting, it, m...</td>\n",
       "      <td>[-0.05897091, 0.7467163, 0.12007665, -0.089397...</td>\n",
       "    </tr>\n",
       "    <tr>\n",
       "      <th>1</th>\n",
       "      <td>0</td>\n",
       "      <td>[i, dive, many, time, ball, manage, save, 0, t...</td>\n",
       "      <td>[-0.061586715, 0.7604908, 0.1392199, -0.104760...</td>\n",
       "    </tr>\n",
       "    <tr>\n",
       "      <th>2</th>\n",
       "      <td>0</td>\n",
       "      <td>[whole, body, feel, itchy, like, fire]</td>\n",
       "      <td>[-0.10851683, 0.7752616, 0.14976382, -0.104643...</td>\n",
       "    </tr>\n",
       "    <tr>\n",
       "      <th>3</th>\n",
       "      <td>0</td>\n",
       "      <td>[no, it, not, behave, all, im, mad, here, i, c...</td>\n",
       "      <td>[-0.052161153, 0.7419824, 0.12117264, -0.12810...</td>\n",
       "    </tr>\n",
       "    <tr>\n",
       "      <th>4</th>\n",
       "      <td>0</td>\n",
       "      <td>[not, whole, crew]</td>\n",
       "      <td>[-0.19041927, 0.8224487, 0.19883856, -0.129845...</td>\n",
       "    </tr>\n",
       "    <tr>\n",
       "      <th>5</th>\n",
       "      <td>0</td>\n",
       "      <td>[need, hug]</td>\n",
       "      <td>[-0.26140139, 0.8633441, 0.24136999, -0.151687...</td>\n",
       "    </tr>\n",
       "  </tbody>\n",
       "</table>\n",
       "</div>"
      ],
      "text/plain": [
       "   label                                              tweet  \\\n",
       "0      0  [upset, cant, update, facebook, texting, it, m...   \n",
       "1      0  [i, dive, many, time, ball, manage, save, 0, t...   \n",
       "2      0             [whole, body, feel, itchy, like, fire]   \n",
       "3      0  [no, it, not, behave, all, im, mad, here, i, c...   \n",
       "4      0                                 [not, whole, crew]   \n",
       "5      0                                        [need, hug]   \n",
       "\n",
       "                                           embedding  \n",
       "0  [-0.05897091, 0.7467163, 0.12007665, -0.089397...  \n",
       "1  [-0.061586715, 0.7604908, 0.1392199, -0.104760...  \n",
       "2  [-0.10851683, 0.7752616, 0.14976382, -0.104643...  \n",
       "3  [-0.052161153, 0.7419824, 0.12117264, -0.12810...  \n",
       "4  [-0.19041927, 0.8224487, 0.19883856, -0.129845...  \n",
       "5  [-0.26140139, 0.8633441, 0.24136999, -0.151687...  "
      ]
     },
     "execution_count": 11,
     "metadata": {},
     "output_type": "execute_result"
    }
   ],
   "source": [
    "data.head(6)"
   ]
  },
  {
   "cell_type": "code",
   "execution_count": 12,
   "id": "4c94c356-8275-4af7-9578-5b13038d4d0a",
   "metadata": {},
   "outputs": [],
   "source": [
    "X = data['embedding']\n",
    "X = np.stack(data['embedding'].values)"
   ]
  },
  {
   "cell_type": "code",
   "execution_count": 16,
   "id": "2f8e0313-539c-4404-8819-77e0ebf3c973",
   "metadata": {},
   "outputs": [],
   "source": [
    "y = data['label'].to_numpy()"
   ]
  },
  {
   "cell_type": "markdown",
   "id": "5a5bad15-8a15-417d-b3d9-0acb554b27e4",
   "metadata": {},
   "source": [
    "# Logistic Regression"
   ]
  },
  {
   "cell_type": "code",
   "execution_count": 17,
   "id": "2e884011",
   "metadata": {},
   "outputs": [
    {
     "name": "stdout",
     "output_type": "stream",
     "text": [
      "Accuracy: 0.5506\n",
      "\n",
      "Classification Report:\n",
      "              precision    recall  f1-score   support\n",
      "\n",
      "           0       0.57      0.41      0.48     79812\n",
      "           1       0.54      0.69      0.61     80188\n",
      "\n",
      "    accuracy                           0.55    160000\n",
      "   macro avg       0.55      0.55      0.54    160000\n",
      "weighted avg       0.55      0.55      0.54    160000\n",
      "\n"
     ]
    },
    {
     "data": {
      "image/png": "[encoded data removed]",
      "text/plain": [
       "<Figure size 800x600 with 2 Axes>"
      ]
     },
     "metadata": {},
     "output_type": "display_data"
    }
   ],
   "source": [
    "from sklearn.model_selection import train_test_split\n",
    "from sklearn.linear_model import LogisticRegression\n",
    "from sklearn.metrics import accuracy_score, classification_report, confusion_matrix\n",
    "import matplotlib.pyplot as plt\n",
    "import seaborn as sns\n",
    "\n",
    "# Split your data\n",
    "X_train, X_test, y_train, y_test = train_test_split(X, y, test_size=0.1, random_state=42)\n",
    "\n",
    "# Train the Logistic Regression model\n",
    "model = LogisticRegression(solver='liblinear', penalty='l2', random_state=42)\n",
    "model.fit(X_train, y_train)\n",
    "\n",
    "# Make predictions on the test set\n",
    "y_pred = model.predict(X_test)\n",
    "\n",
    "# Evaluate the model's performance\n",
    "accuracy = accuracy_score(y_test, y_pred)\n",
    "print(f\"Accuracy: {accuracy:.4f}\")\n",
    "\n",
    "print(\"\\nClassification Report:\")\n",
    "print(classification_report(y_test, y_pred)) # No need for target_names if you're okay with numerical labels\n",
    "\n",
    "cm = confusion_matrix(y_test, y_pred)\n",
    "plt.figure(figsize=(8, 6))\n",
    "sns.heatmap(cm, annot=True, fmt='d', cmap='Blues',\n",
    "            xticklabels=sorted(data['label'].unique()), # Use unique numerical labels for x-axis\n",
    "            yticklabels=sorted(data['label'].unique())) # Use unique numerical labels for y-axis\n",
    "plt.xlabel('Predicted Label')\n",
    "plt.ylabel('True Label')\n",
    "plt.title('Confusion Matrix')\n",
    "plt.show()"
   ]
  },
  {
   "cell_type": "code",
   "execution_count": null,
   "id": "0aac59cd-4333-42ef-8370-9e25ae8e04a3",
   "metadata": {},
   "outputs": [],
   "source": []
  }
 ],
 "metadata": {
  "kernelspec": {
   "display_name": "Python 3 (ipykernel)",
   "language": "python",
   "name": "python3"
  },
  "language_info": {
   "codemirror_mode": {
    "name": "ipython",
    "version": 3
   },
   "file_extension": ".py",
   "mimetype": "text/x-python",
   "name": "python",
   "nbconvert_exporter": "python",
   "pygments_lexer": "ipython3",
   "version": "3.12.4"
  }
 },
 "nbformat": 4,
 "nbformat_minor": 5
}
