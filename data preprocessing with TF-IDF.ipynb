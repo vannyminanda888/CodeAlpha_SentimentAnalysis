{
 "cells": [
  {
   "cell_type": "code",
   "execution_count": 63,
   "id": "26b687ab",
   "metadata": {},
   "outputs": [
    {
     "name": "stdout",
     "output_type": "stream",
     "text": [
      "Requirement already satisfied: nltk in c:\\users\\hp-miko\\miniconda3\\lib\\site-packages (3.9.1)\n",
      "Requirement already satisfied: click in c:\\users\\hp-miko\\miniconda3\\lib\\site-packages (from nltk) (8.1.8)\n",
      "Requirement already satisfied: joblib in c:\\users\\hp-miko\\miniconda3\\lib\\site-packages (from nltk) (1.4.2)\n",
      "Requirement already satisfied: regex>=2021.8.3 in c:\\users\\hp-miko\\miniconda3\\lib\\site-packages (from nltk) (2024.11.6)\n",
      "Requirement already satisfied: tqdm in c:\\users\\hp-miko\\miniconda3\\lib\\site-packages (from nltk) (4.66.4)\n",
      "Requirement already satisfied: colorama in c:\\users\\hp-miko\\miniconda3\\lib\\site-packages (from click->nltk) (0.4.6)\n"
     ]
    }
   ],
   "source": [
    "!pip install nltk\n",
    "import matplotlib.pyplot as plt\n",
    "import pandas as pd\n",
    "import numpy as np\n",
    "import re\n",
    "from sklearn.linear_model import LogisticRegression\n",
    "from sklearn.model_selection import train_test_split\n",
    "from sklearn.feature_extraction.text import TfidfVectorizer\n",
    "from sklearn.metrics import confusion_matrix, classification_report\n",
    "import nltk\n",
    "import string"
   ]
  },
  {
   "cell_type": "code",
   "execution_count": 64,
   "id": "7b45989e",
   "metadata": {},
   "outputs": [
    {
     "name": "stdout",
     "output_type": "stream",
     "text": [
      "Requirement already satisfied: gensim in c:\\users\\hp-miko\\miniconda3\\lib\\site-packages (4.3.3)\n",
      "Requirement already satisfied: numpy<2.0,>=1.18.5 in c:\\users\\hp-miko\\miniconda3\\lib\\site-packages (from gensim) (1.26.4)\n",
      "Requirement already satisfied: scipy<1.14.0,>=1.7.0 in c:\\users\\hp-miko\\miniconda3\\lib\\site-packages (from gensim) (1.13.1)\n",
      "Requirement already satisfied: smart-open>=1.8.1 in c:\\users\\hp-miko\\miniconda3\\lib\\site-packages (from gensim) (7.1.0)\n",
      "Requirement already satisfied: wrapt in c:\\users\\hp-miko\\miniconda3\\lib\\site-packages (from smart-open>=1.8.1->gensim) (1.17.2)\n"
     ]
    }
   ],
   "source": [
    "!pip install gensim"
   ]
  },
  {
   "cell_type": "code",
   "execution_count": 95,
   "id": "819a9438",
   "metadata": {},
   "outputs": [],
   "source": [
    "# using dataset sentiment140 (160k rows)\n",
    "data = pd.read_csv('twitter dataset.csv', encoding='iso-8859-1')"
   ]
  },
  {
   "cell_type": "code",
   "execution_count": 96,
   "id": "e49fccba",
   "metadata": {},
   "outputs": [
    {
     "data": {
      "text/html": [
       "<div>\n",
       "<style scoped>\n",
       "    .dataframe tbody tr th:only-of-type {\n",
       "        vertical-align: middle;\n",
       "    }\n",
       "\n",
       "    .dataframe tbody tr th {\n",
       "        vertical-align: top;\n",
       "    }\n",
       "\n",
       "    .dataframe thead th {\n",
       "        text-align: right;\n",
       "    }\n",
       "</style>\n",
       "<table border=\"1\" class=\"dataframe\">\n",
       "  <thead>\n",
       "    <tr style=\"text-align: right;\">\n",
       "      <th></th>\n",
       "      <th>0</th>\n",
       "      <th>1467810369</th>\n",
       "      <th>Mon Apr 06 22:19:45 PDT 2009</th>\n",
       "      <th>NO_QUERY</th>\n",
       "      <th>_TheSpecialOne_</th>\n",
       "      <th>@switchfoot http://twitpic.com/2y1zl - Awww, that's a bummer.  You shoulda got David Carr of Third Day to do it. ;D</th>\n",
       "    </tr>\n",
       "  </thead>\n",
       "  <tbody>\n",
       "    <tr>\n",
       "      <th>0</th>\n",
       "      <td>0</td>\n",
       "      <td>1467810672</td>\n",
       "      <td>Mon Apr 06 22:19:49 PDT 2009</td>\n",
       "      <td>NO_QUERY</td>\n",
       "      <td>scotthamilton</td>\n",
       "      <td>is upset that he can't update his Facebook by ...</td>\n",
       "    </tr>\n",
       "    <tr>\n",
       "      <th>1</th>\n",
       "      <td>0</td>\n",
       "      <td>1467810917</td>\n",
       "      <td>Mon Apr 06 22:19:53 PDT 2009</td>\n",
       "      <td>NO_QUERY</td>\n",
       "      <td>mattycus</td>\n",
       "      <td>@Kenichan I dived many times for the ball. Man...</td>\n",
       "    </tr>\n",
       "    <tr>\n",
       "      <th>2</th>\n",
       "      <td>0</td>\n",
       "      <td>1467811184</td>\n",
       "      <td>Mon Apr 06 22:19:57 PDT 2009</td>\n",
       "      <td>NO_QUERY</td>\n",
       "      <td>ElleCTF</td>\n",
       "      <td>my whole body feels itchy and like its on fire</td>\n",
       "    </tr>\n",
       "    <tr>\n",
       "      <th>3</th>\n",
       "      <td>0</td>\n",
       "      <td>1467811193</td>\n",
       "      <td>Mon Apr 06 22:19:57 PDT 2009</td>\n",
       "      <td>NO_QUERY</td>\n",
       "      <td>Karoli</td>\n",
       "      <td>@nationwideclass no, it's not behaving at all....</td>\n",
       "    </tr>\n",
       "    <tr>\n",
       "      <th>4</th>\n",
       "      <td>0</td>\n",
       "      <td>1467811372</td>\n",
       "      <td>Mon Apr 06 22:20:00 PDT 2009</td>\n",
       "      <td>NO_QUERY</td>\n",
       "      <td>joy_wolf</td>\n",
       "      <td>@Kwesidei not the whole crew</td>\n",
       "    </tr>\n",
       "  </tbody>\n",
       "</table>\n",
       "</div>"
      ],
      "text/plain": [
       "   0  1467810369  Mon Apr 06 22:19:45 PDT 2009  NO_QUERY _TheSpecialOne_  \\\n",
       "0  0  1467810672  Mon Apr 06 22:19:49 PDT 2009  NO_QUERY   scotthamilton   \n",
       "1  0  1467810917  Mon Apr 06 22:19:53 PDT 2009  NO_QUERY        mattycus   \n",
       "2  0  1467811184  Mon Apr 06 22:19:57 PDT 2009  NO_QUERY         ElleCTF   \n",
       "3  0  1467811193  Mon Apr 06 22:19:57 PDT 2009  NO_QUERY          Karoli   \n",
       "4  0  1467811372  Mon Apr 06 22:20:00 PDT 2009  NO_QUERY        joy_wolf   \n",
       "\n",
       "  @switchfoot http://twitpic.com/2y1zl - Awww, that's a bummer.  You shoulda got David Carr of Third Day to do it. ;D  \n",
       "0  is upset that he can't update his Facebook by ...                                                                   \n",
       "1  @Kenichan I dived many times for the ball. Man...                                                                   \n",
       "2    my whole body feels itchy and like its on fire                                                                    \n",
       "3  @nationwideclass no, it's not behaving at all....                                                                   \n",
       "4                      @Kwesidei not the whole crew                                                                    "
      ]
     },
     "execution_count": 96,
     "metadata": {},
     "output_type": "execute_result"
    }
   ],
   "source": [
    "data.head()"
   ]
  },
  {
   "cell_type": "code",
   "execution_count": 97,
   "id": "56f857ee",
   "metadata": {},
   "outputs": [
    {
     "data": {
      "text/plain": [
       "Index(['label', 'id', 'timestamp', 'no_query', 'username', 'tweet'], dtype='object')"
      ]
     },
     "execution_count": 97,
     "metadata": {},
     "output_type": "execute_result"
    }
   ],
   "source": [
    "data.columns = ['label', 'id', 'timestamp','no_query', 'username','tweet']\n",
    "data.columns"
   ]
  },
  {
   "cell_type": "code",
   "execution_count": 98,
   "id": "924d9ddf",
   "metadata": {},
   "outputs": [
    {
     "data": {
      "text/plain": [
       "0     is upset that he can't update his Facebook by ...\n",
       "1     @Kenichan I dived many times for the ball. Man...\n",
       "2       my whole body feels itchy and like its on fire \n",
       "3     @nationwideclass no, it's not behaving at all....\n",
       "4                         @Kwesidei not the whole crew \n",
       "5                                           Need a hug \n",
       "6     @LOLTrish hey  long time no see! Yes.. Rains a...\n",
       "7                  @Tatiana_K nope they didn't have it \n",
       "8                             @twittera que me muera ? \n",
       "9           spring break in plain city... it's snowing \n",
       "10                           I just re-pierced my ears \n",
       "11    @caregiving I couldn't bear to watch it.  And ...\n",
       "12    @octolinz16 It it counts, idk why I did either...\n",
       "13    @smarrison i would've been the first, but i di...\n",
       "14    @iamjazzyfizzle I wish I got to watch it with ...\n",
       "15    Hollis' death scene will hurt me severely to w...\n",
       "16                                 about to file taxes \n",
       "17    @LettyA ahh ive always wanted to see rent  lov...\n",
       "18    @FakerPattyPattz Oh dear. Were you drinking ou...\n",
       "19    @alydesigns i was out most of the day so didn'...\n",
       "20    one of my friend called me, and asked to meet ...\n",
       "21     @angry_barista I baked you a cake but I ated it \n",
       "22               this week is not going as i had hoped \n",
       "23                           blagh class at 8 tomorrow \n",
       "24       I hate when I have to call and wake people up \n",
       "25    Just going to cry myself to sleep after watchi...\n",
       "26                               im sad now  Miss.Lilly\n",
       "27    ooooh.... LOL  that leslie.... and ok I won't ...\n",
       "28    Meh... Almost Lover is the exception... this t...\n",
       "29    some1 hacked my account on aim  now i have to ...\n",
       "30    @alielayus I want to go to promote GEAR AND GR...\n",
       "31    thought sleeping in was an option tomorrow but...\n",
       "32    @julieebaby awe i love you too!!!! 1 am here  ...\n",
       "33    @HumpNinja I cry my asian eyes to sleep at night \n",
       "34    ok I'm sick and spent an hour sitting in the s...\n",
       "35    @cocomix04 ill tell ya the story later  not a ...\n",
       "36    @MissXu sorry! bed time came here (GMT+1)   ht...\n",
       "37    @fleurylis I don't either. Its depressing. I d...\n",
       "38    Bed. Class 8-12. Work 12-3. Gym 3-5 or 6. Then...\n",
       "39    really don't feel like getting up today... but...\n",
       "40    He's the reason for the teardrops on my guitar...\n",
       "41    Sad, sad, sad. I don't know why but I hate thi...\n",
       "42    @JonathanRKnight Awww I soo wish I was there t...\n",
       "43    Falling asleep. Just heard about that Tracy gi...\n",
       "44    @Viennah Yay! I'm happy for you with your job!...\n",
       "45    Just checked my user timeline on my blackberry...\n",
       "46    Oh man...was ironing @jeancjumbe's fave top to...\n",
       "47    is strangely sad about LiLo and SamRo breaking...\n",
       "48    @tea oh! i'm so sorry  i didn't think about th...\n",
       "49    Broadband plan 'a massive broken promise' http...\n",
       "Name: tweet, dtype: object"
      ]
     },
     "execution_count": 98,
     "metadata": {},
     "output_type": "execute_result"
    }
   ],
   "source": [
    "data['tweet'].head(50)"
   ]
  },
  {
   "cell_type": "code",
   "execution_count": 99,
   "id": "c6e66f7d",
   "metadata": {},
   "outputs": [
    {
     "data": {
      "text/plain": [
       "0"
      ]
     },
     "execution_count": 99,
     "metadata": {},
     "output_type": "execute_result"
    }
   ],
   "source": [
    "np.sum(data.isnull().any(axis=1))"
   ]
  },
  {
   "cell_type": "code",
   "execution_count": 100,
   "id": "d24179ec",
   "metadata": {},
   "outputs": [
    {
     "data": {
      "text/plain": [
       "(1599999, 6)"
      ]
     },
     "execution_count": 100,
     "metadata": {},
     "output_type": "execute_result"
    }
   ],
   "source": [
    "data.shape"
   ]
  },
  {
   "cell_type": "code",
   "execution_count": 101,
   "id": "4aea9a04",
   "metadata": {},
   "outputs": [
    {
     "name": "stdout",
     "output_type": "stream",
     "text": [
      "[0 4]\n",
      "2\n"
     ]
    }
   ],
   "source": [
    "print(data['label'].unique())\n",
    "print(data['label'].nunique())"
   ]
  },
  {
   "cell_type": "code",
   "execution_count": 102,
   "id": "b8f86666",
   "metadata": {},
   "outputs": [
    {
     "name": "stdout",
     "output_type": "stream",
     "text": [
      "Requirement already satisfied: seaborn in c:\\users\\hp-miko\\miniconda3\\lib\\site-packages (0.13.2)\n",
      "Requirement already satisfied: numpy!=1.24.0,>=1.20 in c:\\users\\hp-miko\\miniconda3\\lib\\site-packages (from seaborn) (1.26.4)\n",
      "Requirement already satisfied: pandas>=1.2 in c:\\users\\hp-miko\\miniconda3\\lib\\site-packages (from seaborn) (2.2.2)\n",
      "Requirement already satisfied: matplotlib!=3.6.1,>=3.4 in c:\\users\\hp-miko\\miniconda3\\lib\\site-packages (from seaborn) (3.9.1)\n",
      "Requirement already satisfied: contourpy>=1.0.1 in c:\\users\\hp-miko\\miniconda3\\lib\\site-packages (from matplotlib!=3.6.1,>=3.4->seaborn) (1.2.1)\n",
      "Requirement already satisfied: cycler>=0.10 in c:\\users\\hp-miko\\miniconda3\\lib\\site-packages (from matplotlib!=3.6.1,>=3.4->seaborn) (0.12.1)\n",
      "Requirement already satisfied: fonttools>=4.22.0 in c:\\users\\hp-miko\\miniconda3\\lib\\site-packages (from matplotlib!=3.6.1,>=3.4->seaborn) (4.53.1)\n",
      "Requirement already satisfied: kiwisolver>=1.3.1 in c:\\users\\hp-miko\\miniconda3\\lib\\site-packages (from matplotlib!=3.6.1,>=3.4->seaborn) (1.4.5)\n",
      "Requirement already satisfied: packaging>=20.0 in c:\\users\\hp-miko\\miniconda3\\lib\\site-packages (from matplotlib!=3.6.1,>=3.4->seaborn) (23.2)\n",
      "Requirement already satisfied: pillow>=8 in c:\\users\\hp-miko\\miniconda3\\lib\\site-packages (from matplotlib!=3.6.1,>=3.4->seaborn) (10.3.0)\n",
      "Requirement already satisfied: pyparsing>=2.3.1 in c:\\users\\hp-miko\\miniconda3\\lib\\site-packages (from matplotlib!=3.6.1,>=3.4->seaborn) (3.1.2)\n",
      "Requirement already satisfied: python-dateutil>=2.7 in c:\\users\\hp-miko\\miniconda3\\lib\\site-packages (from matplotlib!=3.6.1,>=3.4->seaborn) (2.9.0.post0)\n",
      "Requirement already satisfied: pytz>=2020.1 in c:\\users\\hp-miko\\miniconda3\\lib\\site-packages (from pandas>=1.2->seaborn) (2024.1)\n",
      "Requirement already satisfied: tzdata>=2022.7 in c:\\users\\hp-miko\\miniconda3\\lib\\site-packages (from pandas>=1.2->seaborn) (2024.1)\n",
      "Requirement already satisfied: six>=1.5 in c:\\users\\hp-miko\\miniconda3\\lib\\site-packages (from python-dateutil>=2.7->matplotlib!=3.6.1,>=3.4->seaborn) (1.16.0)\n"
     ]
    },
    {
     "data": {
      "text/plain": [
       "<Axes: xlabel='label', ylabel='count'>"
      ]
     },
     "execution_count": 102,
     "metadata": {},
     "output_type": "execute_result"
    },
    {
     "data": {
      "image/png": "[encoded data removed]",
      "text/plain": [
       "<Figure size 640x480 with 1 Axes>"
      ]
     },
     "metadata": {},
     "output_type": "display_data"
    }
   ],
   "source": [
    "!pip install seaborn\n",
    "import seaborn as sns\n",
    "sns.countplot(x='label', data=data)"
   ]
  },
  {
   "cell_type": "markdown",
   "id": "f880c7ac",
   "metadata": {},
   "source": [
    "#### so the proportion between negative and positive sentiments are balance"
   ]
  },
  {
   "cell_type": "markdown",
   "id": "cdc269bf",
   "metadata": {},
   "source": [
    "# Data Preprocessing"
   ]
  },
  {
   "cell_type": "code",
   "execution_count": 103,
   "id": "e19f6b85",
   "metadata": {},
   "outputs": [],
   "source": [
    "# First of all, having two labels 0 and 4 are confusing, I will just subtitute the label into 0, and 1:"
   ]
  },
  {
   "cell_type": "code",
   "execution_count": 104,
   "id": "7a88377d",
   "metadata": {},
   "outputs": [
    {
     "name": "stdout",
     "output_type": "stream",
     "text": [
      "[0 1]\n"
     ]
    }
   ],
   "source": [
    "data['label'] = data['label'].replace(4,1)\n",
    "print(data['label'].unique())"
   ]
  },
  {
   "cell_type": "code",
   "execution_count": 105,
   "id": "f2b3d1a7",
   "metadata": {},
   "outputs": [
    {
     "name": "stdout",
     "output_type": "stream",
     "text": [
      "800000 799999\n"
     ]
    }
   ],
   "source": [
    "# Now, I will separate positive and negative tweets into two different variables\n",
    "positive_tweets = data[data['label'] == 1]\n",
    "negative_tweets = data[data['label'] == 0]\n",
    "print(len(positive_tweets), len(negative_tweets))"
   ]
  },
  {
   "cell_type": "markdown",
   "id": "cd6d3244",
   "metadata": {},
   "source": [
    "## Part 1\n",
    "\n",
    "in this data preprocessing, I will do some cleaning and data transformation as follows:\n",
    "1. remove URLs\n",
    "2. remove user mentiones (@username)\n",
    "3. remove hastags\n",
    "4. remove special characters and punctuations\n",
    "5. convert them to lower case\n",
    "6. remove stop words\n",
    "7. removing numbers\n",
    "\n",
    "## Part 2\n",
    "Tokenization\n",
    "A. Perform tokenization using nltk\n",
    "\n",
    "## Part 3\n",
    "Further text normalization\n",
    "- Handle negations (such as 'no' , \"never\") since it might flip the sentiment of a sentence\n",
    "- Correcting spelling error\n",
    "- Handles emoji and emoticon **(no emoji and emoticon in this particular dataset)**\n",
    "- Stemming or Lematization (reduce words to their root form e.g. running become run)\n",
    "\n",
    "\n",
    "Final Transformation for modeling:\n",
    "Text Vectorization (convert text into Numerical format so that ML model can understand) \n",
    "e.g. Bag of Words, TF-IDF (TfidfVectorizer), word embedding using pre-trained model such as Word2Vec or GloVe, Transformer Embedding (like BERT)\n",
    "\n"
   ]
  },
  {
   "cell_type": "code",
   "execution_count": 106,
   "id": "ac5499ab-437b-4180-bf7a-22c665a165a5",
   "metadata": {},
   "outputs": [
    {
     "name": "stdout",
     "output_type": "stream",
     "text": [
      "<class 'pandas.core.frame.DataFrame'>\n",
      "RangeIndex: 1599999 entries, 0 to 1599998\n",
      "Data columns (total 6 columns):\n",
      " #   Column     Non-Null Count    Dtype \n",
      "---  ------     --------------    ----- \n",
      " 0   label      1599999 non-null  int64 \n",
      " 1   id         1599999 non-null  int64 \n",
      " 2   timestamp  1599999 non-null  object\n",
      " 3   no_query   1599999 non-null  object\n",
      " 4   username   1599999 non-null  object\n",
      " 5   tweet      1599999 non-null  object\n",
      "dtypes: int64(2), object(4)\n",
      "memory usage: 73.2+ MB\n"
     ]
    }
   ],
   "source": [
    "data.info()"
   ]
  },
  {
   "cell_type": "code",
   "execution_count": 107,
   "id": "1b614b68",
   "metadata": {},
   "outputs": [],
   "source": [
    "def remove_url(text):\n",
    "    return re.sub(r'((www\\.[^\\s]+)|(https?://[^\\s]+))', ' ', text)"
   ]
  },
  {
   "cell_type": "code",
   "execution_count": 108,
   "id": "d397e2be",
   "metadata": {},
   "outputs": [],
   "source": [
    "def remove_stopwords(text):\n",
    "    stopwordlist = ['a', 'about', 'above', 'after', 'again', 'ain', 'all', 'am', 'an',\n",
    "             'and','any','are', 'as', 'at', 'be', 'because', 'been', 'before',\n",
    "             'being', 'below', 'between','both', 'by', 'can', 'd', 'did', 'do',\n",
    "             'does', 'doing', 'down', 'during', 'each','few', 'for', 'from',\n",
    "             'further', 'had', 'has', 'have', 'having', 'he', 'her', 'here',\n",
    "             'hers', 'herself', 'him', 'himself', 'his', 'how', 'i', 'if', 'in',\n",
    "             'into','is', 'it', 'its', 'itself', 'just', 'll', 'm', 'ma',\n",
    "             'me', 'more', 'most','my', 'myself', 'now', 'o', 'of', 'on', 'once',\n",
    "             'only', 'or', 'other', 'our', 'ours','ourselves', 'out', 'own', 're','s', 'same', 'she', \"shes\", 'should', \"shouldve\",'so', 'some', 'such',\n",
    "             't', 'than', 'that', \"thatll\", 'the', 'their', 'theirs', 'them',\n",
    "             'themselves', 'then', 'there', 'these', 'they', 'this', 'those',\n",
    "             'through', 'to', 'too','under', 'until', 'up', 've', 'very', 'was',\n",
    "             'we', 'were', 'what', 'when', 'where','which','while', 'who', 'whom',\n",
    "             'why', 'will', 'with', 'won', 'y', 'you', \"youd\",\"youll\", \"youre\",\n",
    "             \"youve\", 'your', 'yours', 'yourself', 'yourselves']\n",
    "    return \" \".join([word for word in str(text).split() if word not in stopwordlist])\n"
   ]
  },
  {
   "cell_type": "code",
   "execution_count": 109,
   "id": "6889604c",
   "metadata": {},
   "outputs": [],
   "source": [
    "def remove_user_mentiones(text):\n",
    "    return re.sub(r'((@[^\\s]+))', ' ', text)"
   ]
  },
  {
   "cell_type": "code",
   "execution_count": 110,
   "id": "299cbad6",
   "metadata": {},
   "outputs": [],
   "source": [
    "def remove_hastag(text):\n",
    "    return re.sub(r'((#[^\\s]+))', ' ', text)"
   ]
  },
  {
   "cell_type": "code",
   "execution_count": 111,
   "id": "d28aff60",
   "metadata": {},
   "outputs": [],
   "source": [
    "#!\"#$%&'()*+,-./:;<=>?@[\\]^_`{|}~\n",
    "def cleaning_punctuations(text):\n",
    "    english_punctuations = string.punctuation\n",
    "    punctuations_list = english_punctuations\n",
    "    translator = str.maketrans('', '', punctuations_list)\n",
    "    return text.translate(translator)"
   ]
  },
  {
   "cell_type": "code",
   "execution_count": 112,
   "id": "5eb334b6",
   "metadata": {},
   "outputs": [],
   "source": [
    "def removing_numbers(text):\n",
    "    return re.sub(r'(([1-9]))','',text)"
   ]
  },
  {
   "cell_type": "code",
   "execution_count": 113,
   "id": "5254d3ba",
   "metadata": {},
   "outputs": [],
   "source": [
    "from nltk.corpus import wordnet\n",
    "\n",
    "def get_wordnet_pos(treebank_tag):\n",
    "    \"\"\"Convert Treebank POS tag to WordNet POS tag.\"\"\"\n",
    "    if treebank_tag.startswith('J'):\n",
    "        return wordnet.ADJ\n",
    "    elif treebank_tag.startswith('V'):\n",
    "        return wordnet.VERB\n",
    "    elif treebank_tag.startswith('N'):\n",
    "        return wordnet.NOUN\n",
    "    elif treebank_tag.startswith('R'):\n",
    "        return wordnet.ADV\n",
    "    else:\n",
    "        return wordnet.NOUN  # Default to noun if no clear mapping\n",
    "\n",
    "def lemmatizer_with_pos(tokens):\n",
    "    lm = nltk.WordNetLemmatizer()\n",
    "    lemmatized_tokens = []\n",
    "    tagged_tokens = nltk.pos_tag(tokens)  # Perform POS tagging\n",
    "    for word, tag in tagged_tokens:\n",
    "        wordnet_pos = get_wordnet_pos(tag)\n",
    "        lemmatized_tokens.append(lm.lemmatize(word, pos=wordnet_pos))\n",
    "    return lemmatized_tokens # Return a list of lemmatized tokens for direct inspection"
   ]
  },
  {
   "cell_type": "markdown",
   "id": "a3cdd78d",
   "metadata": {},
   "source": [
    "## Data Cleaning Part 1\n"
   ]
  },
  {
   "cell_type": "code",
   "execution_count": 114,
   "id": "bed513c6",
   "metadata": {},
   "outputs": [],
   "source": [
    "# data['tweet'] = data['tweet'].apply(lambda text: remove_stopwords(text))\n",
    "data['tweet'] = data['tweet'].apply(lambda text: remove_url(text))\n",
    "data['tweet'] = data['tweet'].apply(lambda text: remove_user_mentiones(text))\n",
    "data['tweet'] = data['tweet'].apply(lambda text: remove_hastag(text))\n",
    "# data['tweet'] = data['tweet'].apply(lambda text: cleaning_punctuations(text))\n",
    "data['tweet'] = data['tweet'].apply(lambda text: removing_numbers(text))\n",
    "data['tweet'] = data['tweet'].str.lower()\n"
   ]
  },
  {
   "cell_type": "code",
   "execution_count": 115,
   "id": "c6d898ed",
   "metadata": {},
   "outputs": [
    {
     "data": {
      "text/plain": [
       "(1599999, 6)"
      ]
     },
     "execution_count": 115,
     "metadata": {},
     "output_type": "execute_result"
    }
   ],
   "source": [
    "data.shape"
   ]
  },
  {
   "cell_type": "markdown",
   "id": "fa698d3a",
   "metadata": {},
   "source": [
    "## Part 2 : Tokenization"
   ]
  },
  {
   "cell_type": "code",
   "execution_count": 116,
   "id": "275456b5",
   "metadata": {},
   "outputs": [],
   "source": [
    "from nltk.tokenize import RegexpTokenizer\n",
    "tokenizer = RegexpTokenizer(r'\\w+')\n",
    "data['tweet'] = data['tweet'].apply(tokenizer.tokenize)"
   ]
  },
  {
   "cell_type": "code",
   "execution_count": 117,
   "id": "15a2352c",
   "metadata": {},
   "outputs": [
    {
     "data": {
      "text/html": [
       "<div>\n",
       "<style scoped>\n",
       "    .dataframe tbody tr th:only-of-type {\n",
       "        vertical-align: middle;\n",
       "    }\n",
       "\n",
       "    .dataframe tbody tr th {\n",
       "        vertical-align: top;\n",
       "    }\n",
       "\n",
       "    .dataframe thead th {\n",
       "        text-align: right;\n",
       "    }\n",
       "</style>\n",
       "<table border=\"1\" class=\"dataframe\">\n",
       "  <thead>\n",
       "    <tr style=\"text-align: right;\">\n",
       "      <th></th>\n",
       "      <th>label</th>\n",
       "      <th>id</th>\n",
       "      <th>timestamp</th>\n",
       "      <th>no_query</th>\n",
       "      <th>username</th>\n",
       "      <th>tweet</th>\n",
       "    </tr>\n",
       "  </thead>\n",
       "  <tbody>\n",
       "    <tr>\n",
       "      <th>0</th>\n",
       "      <td>0</td>\n",
       "      <td>1467810672</td>\n",
       "      <td>Mon Apr 06 22:19:49 PDT 2009</td>\n",
       "      <td>NO_QUERY</td>\n",
       "      <td>scotthamilton</td>\n",
       "      <td>[is, upset, that, he, can, t, update, his, fac...</td>\n",
       "    </tr>\n",
       "    <tr>\n",
       "      <th>1</th>\n",
       "      <td>0</td>\n",
       "      <td>1467810917</td>\n",
       "      <td>Mon Apr 06 22:19:53 PDT 2009</td>\n",
       "      <td>NO_QUERY</td>\n",
       "      <td>mattycus</td>\n",
       "      <td>[i, dived, many, times, for, the, ball, manage...</td>\n",
       "    </tr>\n",
       "    <tr>\n",
       "      <th>2</th>\n",
       "      <td>0</td>\n",
       "      <td>1467811184</td>\n",
       "      <td>Mon Apr 06 22:19:57 PDT 2009</td>\n",
       "      <td>NO_QUERY</td>\n",
       "      <td>ElleCTF</td>\n",
       "      <td>[my, whole, body, feels, itchy, and, like, its...</td>\n",
       "    </tr>\n",
       "    <tr>\n",
       "      <th>3</th>\n",
       "      <td>0</td>\n",
       "      <td>1467811193</td>\n",
       "      <td>Mon Apr 06 22:19:57 PDT 2009</td>\n",
       "      <td>NO_QUERY</td>\n",
       "      <td>Karoli</td>\n",
       "      <td>[no, it, s, not, behaving, at, all, i, m, mad,...</td>\n",
       "    </tr>\n",
       "    <tr>\n",
       "      <th>4</th>\n",
       "      <td>0</td>\n",
       "      <td>1467811372</td>\n",
       "      <td>Mon Apr 06 22:20:00 PDT 2009</td>\n",
       "      <td>NO_QUERY</td>\n",
       "      <td>joy_wolf</td>\n",
       "      <td>[not, the, whole, crew]</td>\n",
       "    </tr>\n",
       "    <tr>\n",
       "      <th>5</th>\n",
       "      <td>0</td>\n",
       "      <td>1467811592</td>\n",
       "      <td>Mon Apr 06 22:20:03 PDT 2009</td>\n",
       "      <td>NO_QUERY</td>\n",
       "      <td>mybirch</td>\n",
       "      <td>[need, a, hug]</td>\n",
       "    </tr>\n",
       "    <tr>\n",
       "      <th>6</th>\n",
       "      <td>0</td>\n",
       "      <td>1467811594</td>\n",
       "      <td>Mon Apr 06 22:20:03 PDT 2009</td>\n",
       "      <td>NO_QUERY</td>\n",
       "      <td>coZZ</td>\n",
       "      <td>[hey, long, time, no, see, yes, rains, a, bit,...</td>\n",
       "    </tr>\n",
       "    <tr>\n",
       "      <th>7</th>\n",
       "      <td>0</td>\n",
       "      <td>1467811795</td>\n",
       "      <td>Mon Apr 06 22:20:05 PDT 2009</td>\n",
       "      <td>NO_QUERY</td>\n",
       "      <td>2Hood4Hollywood</td>\n",
       "      <td>[nope, they, didn, t, have, it]</td>\n",
       "    </tr>\n",
       "    <tr>\n",
       "      <th>8</th>\n",
       "      <td>0</td>\n",
       "      <td>1467812025</td>\n",
       "      <td>Mon Apr 06 22:20:09 PDT 2009</td>\n",
       "      <td>NO_QUERY</td>\n",
       "      <td>mimismo</td>\n",
       "      <td>[que, me, muera]</td>\n",
       "    </tr>\n",
       "    <tr>\n",
       "      <th>9</th>\n",
       "      <td>0</td>\n",
       "      <td>1467812416</td>\n",
       "      <td>Mon Apr 06 22:20:16 PDT 2009</td>\n",
       "      <td>NO_QUERY</td>\n",
       "      <td>erinx3leannexo</td>\n",
       "      <td>[spring, break, in, plain, city, it, s, snowing]</td>\n",
       "    </tr>\n",
       "    <tr>\n",
       "      <th>10</th>\n",
       "      <td>0</td>\n",
       "      <td>1467812579</td>\n",
       "      <td>Mon Apr 06 22:20:17 PDT 2009</td>\n",
       "      <td>NO_QUERY</td>\n",
       "      <td>pardonlauren</td>\n",
       "      <td>[i, just, re, pierced, my, ears]</td>\n",
       "    </tr>\n",
       "    <tr>\n",
       "      <th>11</th>\n",
       "      <td>0</td>\n",
       "      <td>1467812723</td>\n",
       "      <td>Mon Apr 06 22:20:19 PDT 2009</td>\n",
       "      <td>NO_QUERY</td>\n",
       "      <td>TLeC</td>\n",
       "      <td>[i, couldn, t, bear, to, watch, it, and, i, th...</td>\n",
       "    </tr>\n",
       "    <tr>\n",
       "      <th>12</th>\n",
       "      <td>0</td>\n",
       "      <td>1467812771</td>\n",
       "      <td>Mon Apr 06 22:20:19 PDT 2009</td>\n",
       "      <td>NO_QUERY</td>\n",
       "      <td>robrobbierobert</td>\n",
       "      <td>[it, it, counts, idk, why, i, did, either, you...</td>\n",
       "    </tr>\n",
       "    <tr>\n",
       "      <th>13</th>\n",
       "      <td>0</td>\n",
       "      <td>1467812784</td>\n",
       "      <td>Mon Apr 06 22:20:20 PDT 2009</td>\n",
       "      <td>NO_QUERY</td>\n",
       "      <td>bayofwolves</td>\n",
       "      <td>[i, would, ve, been, the, first, but, i, didn,...</td>\n",
       "    </tr>\n",
       "    <tr>\n",
       "      <th>14</th>\n",
       "      <td>0</td>\n",
       "      <td>1467812799</td>\n",
       "      <td>Mon Apr 06 22:20:20 PDT 2009</td>\n",
       "      <td>NO_QUERY</td>\n",
       "      <td>HairByJess</td>\n",
       "      <td>[i, wish, i, got, to, watch, it, with, you, i,...</td>\n",
       "    </tr>\n",
       "    <tr>\n",
       "      <th>15</th>\n",
       "      <td>0</td>\n",
       "      <td>1467812964</td>\n",
       "      <td>Mon Apr 06 22:20:22 PDT 2009</td>\n",
       "      <td>NO_QUERY</td>\n",
       "      <td>lovesongwriter</td>\n",
       "      <td>[hollis, death, scene, will, hurt, me, severel...</td>\n",
       "    </tr>\n",
       "    <tr>\n",
       "      <th>16</th>\n",
       "      <td>0</td>\n",
       "      <td>1467813137</td>\n",
       "      <td>Mon Apr 06 22:20:25 PDT 2009</td>\n",
       "      <td>NO_QUERY</td>\n",
       "      <td>armotley</td>\n",
       "      <td>[about, to, file, taxes]</td>\n",
       "    </tr>\n",
       "    <tr>\n",
       "      <th>17</th>\n",
       "      <td>0</td>\n",
       "      <td>1467813579</td>\n",
       "      <td>Mon Apr 06 22:20:31 PDT 2009</td>\n",
       "      <td>NO_QUERY</td>\n",
       "      <td>starkissed</td>\n",
       "      <td>[ahh, ive, always, wanted, to, see, rent, love...</td>\n",
       "    </tr>\n",
       "    <tr>\n",
       "      <th>18</th>\n",
       "      <td>0</td>\n",
       "      <td>1467813782</td>\n",
       "      <td>Mon Apr 06 22:20:34 PDT 2009</td>\n",
       "      <td>NO_QUERY</td>\n",
       "      <td>gi_gi_bee</td>\n",
       "      <td>[oh, dear, were, you, drinking, out, of, the, ...</td>\n",
       "    </tr>\n",
       "    <tr>\n",
       "      <th>19</th>\n",
       "      <td>0</td>\n",
       "      <td>1467813985</td>\n",
       "      <td>Mon Apr 06 22:20:37 PDT 2009</td>\n",
       "      <td>NO_QUERY</td>\n",
       "      <td>quanvu</td>\n",
       "      <td>[i, was, out, most, of, the, day, so, didn, t,...</td>\n",
       "    </tr>\n",
       "    <tr>\n",
       "      <th>20</th>\n",
       "      <td>0</td>\n",
       "      <td>1467813992</td>\n",
       "      <td>Mon Apr 06 22:20:38 PDT 2009</td>\n",
       "      <td>NO_QUERY</td>\n",
       "      <td>swinspeedx</td>\n",
       "      <td>[one, of, my, friend, called, me, and, asked, ...</td>\n",
       "    </tr>\n",
       "    <tr>\n",
       "      <th>21</th>\n",
       "      <td>0</td>\n",
       "      <td>1467814119</td>\n",
       "      <td>Mon Apr 06 22:20:40 PDT 2009</td>\n",
       "      <td>NO_QUERY</td>\n",
       "      <td>cooliodoc</td>\n",
       "      <td>[i, baked, you, a, cake, but, i, ated, it]</td>\n",
       "    </tr>\n",
       "    <tr>\n",
       "      <th>22</th>\n",
       "      <td>0</td>\n",
       "      <td>1467814180</td>\n",
       "      <td>Mon Apr 06 22:20:40 PDT 2009</td>\n",
       "      <td>NO_QUERY</td>\n",
       "      <td>viJILLante</td>\n",
       "      <td>[this, week, is, not, going, as, i, had, hoped]</td>\n",
       "    </tr>\n",
       "    <tr>\n",
       "      <th>23</th>\n",
       "      <td>0</td>\n",
       "      <td>1467814192</td>\n",
       "      <td>Mon Apr 06 22:20:41 PDT 2009</td>\n",
       "      <td>NO_QUERY</td>\n",
       "      <td>Ljelli3166</td>\n",
       "      <td>[blagh, class, at, tomorrow]</td>\n",
       "    </tr>\n",
       "    <tr>\n",
       "      <th>24</th>\n",
       "      <td>0</td>\n",
       "      <td>1467814438</td>\n",
       "      <td>Mon Apr 06 22:20:44 PDT 2009</td>\n",
       "      <td>NO_QUERY</td>\n",
       "      <td>ChicagoCubbie</td>\n",
       "      <td>[i, hate, when, i, have, to, call, and, wake, ...</td>\n",
       "    </tr>\n",
       "    <tr>\n",
       "      <th>25</th>\n",
       "      <td>0</td>\n",
       "      <td>1467814783</td>\n",
       "      <td>Mon Apr 06 22:20:50 PDT 2009</td>\n",
       "      <td>NO_QUERY</td>\n",
       "      <td>KatieAngell</td>\n",
       "      <td>[just, going, to, cry, myself, to, sleep, afte...</td>\n",
       "    </tr>\n",
       "    <tr>\n",
       "      <th>26</th>\n",
       "      <td>0</td>\n",
       "      <td>1467814883</td>\n",
       "      <td>Mon Apr 06 22:20:52 PDT 2009</td>\n",
       "      <td>NO_QUERY</td>\n",
       "      <td>gagoo</td>\n",
       "      <td>[im, sad, now, miss, lilly]</td>\n",
       "    </tr>\n",
       "    <tr>\n",
       "      <th>27</th>\n",
       "      <td>0</td>\n",
       "      <td>1467815199</td>\n",
       "      <td>Mon Apr 06 22:20:56 PDT 2009</td>\n",
       "      <td>NO_QUERY</td>\n",
       "      <td>abel209</td>\n",
       "      <td>[ooooh, lol, that, leslie, and, ok, i, won, t,...</td>\n",
       "    </tr>\n",
       "    <tr>\n",
       "      <th>28</th>\n",
       "      <td>0</td>\n",
       "      <td>1467815753</td>\n",
       "      <td>Mon Apr 06 22:21:04 PDT 2009</td>\n",
       "      <td>NO_QUERY</td>\n",
       "      <td>BaptisteTheFool</td>\n",
       "      <td>[meh, almost, lover, is, the, exception, this,...</td>\n",
       "    </tr>\n",
       "    <tr>\n",
       "      <th>29</th>\n",
       "      <td>0</td>\n",
       "      <td>1467815923</td>\n",
       "      <td>Mon Apr 06 22:21:07 PDT 2009</td>\n",
       "      <td>NO_QUERY</td>\n",
       "      <td>fatkat309</td>\n",
       "      <td>[some, hacked, my, account, on, aim, now, i, h...</td>\n",
       "    </tr>\n",
       "    <tr>\n",
       "      <th>30</th>\n",
       "      <td>0</td>\n",
       "      <td>1467815924</td>\n",
       "      <td>Mon Apr 06 22:21:07 PDT 2009</td>\n",
       "      <td>NO_QUERY</td>\n",
       "      <td>EmCDL</td>\n",
       "      <td>[i, want, to, go, to, promote, gear, and, groo...</td>\n",
       "    </tr>\n",
       "    <tr>\n",
       "      <th>31</th>\n",
       "      <td>0</td>\n",
       "      <td>1467815988</td>\n",
       "      <td>Mon Apr 06 22:21:09 PDT 2009</td>\n",
       "      <td>NO_QUERY</td>\n",
       "      <td>merisssa</td>\n",
       "      <td>[thought, sleeping, in, was, an, option, tomor...</td>\n",
       "    </tr>\n",
       "    <tr>\n",
       "      <th>32</th>\n",
       "      <td>0</td>\n",
       "      <td>1467816149</td>\n",
       "      <td>Mon Apr 06 22:21:11 PDT 2009</td>\n",
       "      <td>NO_QUERY</td>\n",
       "      <td>Pbearfox</td>\n",
       "      <td>[awe, i, love, you, too, am, here, i, miss, you]</td>\n",
       "    </tr>\n",
       "    <tr>\n",
       "      <th>33</th>\n",
       "      <td>0</td>\n",
       "      <td>1467816665</td>\n",
       "      <td>Mon Apr 06 22:21:21 PDT 2009</td>\n",
       "      <td>NO_QUERY</td>\n",
       "      <td>jsoo</td>\n",
       "      <td>[i, cry, my, asian, eyes, to, sleep, at, night]</td>\n",
       "    </tr>\n",
       "    <tr>\n",
       "      <th>34</th>\n",
       "      <td>0</td>\n",
       "      <td>1467816749</td>\n",
       "      <td>Mon Apr 06 22:21:20 PDT 2009</td>\n",
       "      <td>NO_QUERY</td>\n",
       "      <td>scarletletterm</td>\n",
       "      <td>[ok, i, m, sick, and, spent, an, hour, sitting...</td>\n",
       "    </tr>\n",
       "    <tr>\n",
       "      <th>35</th>\n",
       "      <td>0</td>\n",
       "      <td>1467817225</td>\n",
       "      <td>Mon Apr 06 22:21:27 PDT 2009</td>\n",
       "      <td>NO_QUERY</td>\n",
       "      <td>crosland_12</td>\n",
       "      <td>[ill, tell, ya, the, story, later, not, a, goo...</td>\n",
       "    </tr>\n",
       "    <tr>\n",
       "      <th>36</th>\n",
       "      <td>0</td>\n",
       "      <td>1467817374</td>\n",
       "      <td>Mon Apr 06 22:21:30 PDT 2009</td>\n",
       "      <td>NO_QUERY</td>\n",
       "      <td>ajaxpro</td>\n",
       "      <td>[sorry, bed, time, came, here, gmt]</td>\n",
       "    </tr>\n",
       "    <tr>\n",
       "      <th>37</th>\n",
       "      <td>0</td>\n",
       "      <td>1467817502</td>\n",
       "      <td>Mon Apr 06 22:21:32 PDT 2009</td>\n",
       "      <td>NO_QUERY</td>\n",
       "      <td>Tmttq86</td>\n",
       "      <td>[i, don, t, either, its, depressing, i, don, t...</td>\n",
       "    </tr>\n",
       "    <tr>\n",
       "      <th>38</th>\n",
       "      <td>0</td>\n",
       "      <td>1467818007</td>\n",
       "      <td>Mon Apr 06 22:21:39 PDT 2009</td>\n",
       "      <td>NO_QUERY</td>\n",
       "      <td>Anthony_Nguyen</td>\n",
       "      <td>[bed, class, work, gym, or, then, class, 0, an...</td>\n",
       "    </tr>\n",
       "    <tr>\n",
       "      <th>39</th>\n",
       "      <td>0</td>\n",
       "      <td>1467818020</td>\n",
       "      <td>Mon Apr 06 22:21:39 PDT 2009</td>\n",
       "      <td>NO_QUERY</td>\n",
       "      <td>itsanimesh</td>\n",
       "      <td>[really, don, t, feel, like, getting, up, toda...</td>\n",
       "    </tr>\n",
       "    <tr>\n",
       "      <th>40</th>\n",
       "      <td>0</td>\n",
       "      <td>1467818481</td>\n",
       "      <td>Mon Apr 06 22:21:46 PDT 2009</td>\n",
       "      <td>NO_QUERY</td>\n",
       "      <td>lionslamb</td>\n",
       "      <td>[he, s, the, reason, for, the, teardrops, on, ...</td>\n",
       "    </tr>\n",
       "    <tr>\n",
       "      <th>41</th>\n",
       "      <td>0</td>\n",
       "      <td>1467818603</td>\n",
       "      <td>Mon Apr 06 22:21:49 PDT 2009</td>\n",
       "      <td>NO_QUERY</td>\n",
       "      <td>kennypham</td>\n",
       "      <td>[sad, sad, sad, i, don, t, know, why, but, i, ...</td>\n",
       "    </tr>\n",
       "    <tr>\n",
       "      <th>42</th>\n",
       "      <td>0</td>\n",
       "      <td>1467818900</td>\n",
       "      <td>Mon Apr 06 22:21:53 PDT 2009</td>\n",
       "      <td>NO_QUERY</td>\n",
       "      <td>DdubsShellBell</td>\n",
       "      <td>[awww, i, soo, wish, i, was, there, to, see, y...</td>\n",
       "    </tr>\n",
       "    <tr>\n",
       "      <th>43</th>\n",
       "      <td>0</td>\n",
       "      <td>1467819022</td>\n",
       "      <td>Mon Apr 06 22:21:56 PDT 2009</td>\n",
       "      <td>NO_QUERY</td>\n",
       "      <td>hpfangirl94</td>\n",
       "      <td>[falling, asleep, just, heard, about, that, tr...</td>\n",
       "    </tr>\n",
       "    <tr>\n",
       "      <th>44</th>\n",
       "      <td>0</td>\n",
       "      <td>1467819650</td>\n",
       "      <td>Mon Apr 06 22:22:05 PDT 2009</td>\n",
       "      <td>NO_QUERY</td>\n",
       "      <td>antzpantz</td>\n",
       "      <td>[yay, i, m, happy, for, you, with, your, job, ...</td>\n",
       "    </tr>\n",
       "    <tr>\n",
       "      <th>45</th>\n",
       "      <td>0</td>\n",
       "      <td>1467819712</td>\n",
       "      <td>Mon Apr 06 22:22:06 PDT 2009</td>\n",
       "      <td>NO_QUERY</td>\n",
       "      <td>labrt2004</td>\n",
       "      <td>[just, checked, my, user, timeline, on, my, bl...</td>\n",
       "    </tr>\n",
       "    <tr>\n",
       "      <th>46</th>\n",
       "      <td>0</td>\n",
       "      <td>1467819812</td>\n",
       "      <td>Mon Apr 06 22:22:07 PDT 2009</td>\n",
       "      <td>NO_QUERY</td>\n",
       "      <td>IrisJumbe</td>\n",
       "      <td>[oh, man, was, ironing, fave, top, to, wear, t...</td>\n",
       "    </tr>\n",
       "    <tr>\n",
       "      <th>47</th>\n",
       "      <td>0</td>\n",
       "      <td>1467820206</td>\n",
       "      <td>Mon Apr 06 22:22:13 PDT 2009</td>\n",
       "      <td>NO_QUERY</td>\n",
       "      <td>peacoats</td>\n",
       "      <td>[is, strangely, sad, about, lilo, and, samro, ...</td>\n",
       "    </tr>\n",
       "    <tr>\n",
       "      <th>48</th>\n",
       "      <td>0</td>\n",
       "      <td>1467820835</td>\n",
       "      <td>Mon Apr 06 22:22:25 PDT 2009</td>\n",
       "      <td>NO_QUERY</td>\n",
       "      <td>cyantist</td>\n",
       "      <td>[oh, i, m, so, sorry, i, didn, t, think, about...</td>\n",
       "    </tr>\n",
       "    <tr>\n",
       "      <th>49</th>\n",
       "      <td>0</td>\n",
       "      <td>1467820863</td>\n",
       "      <td>Mon Apr 06 22:22:23 PDT 2009</td>\n",
       "      <td>NO_QUERY</td>\n",
       "      <td>tautao</td>\n",
       "      <td>[broadband, plan, a, massive, broken, promise,...</td>\n",
       "    </tr>\n",
       "  </tbody>\n",
       "</table>\n",
       "</div>"
      ],
      "text/plain": [
       "    label          id                     timestamp  no_query  \\\n",
       "0       0  1467810672  Mon Apr 06 22:19:49 PDT 2009  NO_QUERY   \n",
       "1       0  1467810917  Mon Apr 06 22:19:53 PDT 2009  NO_QUERY   \n",
       "2       0  1467811184  Mon Apr 06 22:19:57 PDT 2009  NO_QUERY   \n",
       "3       0  1467811193  Mon Apr 06 22:19:57 PDT 2009  NO_QUERY   \n",
       "4       0  1467811372  Mon Apr 06 22:20:00 PDT 2009  NO_QUERY   \n",
       "5       0  1467811592  Mon Apr 06 22:20:03 PDT 2009  NO_QUERY   \n",
       "6       0  1467811594  Mon Apr 06 22:20:03 PDT 2009  NO_QUERY   \n",
       "7       0  1467811795  Mon Apr 06 22:20:05 PDT 2009  NO_QUERY   \n",
       "8       0  1467812025  Mon Apr 06 22:20:09 PDT 2009  NO_QUERY   \n",
       "9       0  1467812416  Mon Apr 06 22:20:16 PDT 2009  NO_QUERY   \n",
       "10      0  1467812579  Mon Apr 06 22:20:17 PDT 2009  NO_QUERY   \n",
       "11      0  1467812723  Mon Apr 06 22:20:19 PDT 2009  NO_QUERY   \n",
       "12      0  1467812771  Mon Apr 06 22:20:19 PDT 2009  NO_QUERY   \n",
       "13      0  1467812784  Mon Apr 06 22:20:20 PDT 2009  NO_QUERY   \n",
       "14      0  1467812799  Mon Apr 06 22:20:20 PDT 2009  NO_QUERY   \n",
       "15      0  1467812964  Mon Apr 06 22:20:22 PDT 2009  NO_QUERY   \n",
       "16      0  1467813137  Mon Apr 06 22:20:25 PDT 2009  NO_QUERY   \n",
       "17      0  1467813579  Mon Apr 06 22:20:31 PDT 2009  NO_QUERY   \n",
       "18      0  1467813782  Mon Apr 06 22:20:34 PDT 2009  NO_QUERY   \n",
       "19      0  1467813985  Mon Apr 06 22:20:37 PDT 2009  NO_QUERY   \n",
       "20      0  1467813992  Mon Apr 06 22:20:38 PDT 2009  NO_QUERY   \n",
       "21      0  1467814119  Mon Apr 06 22:20:40 PDT 2009  NO_QUERY   \n",
       "22      0  1467814180  Mon Apr 06 22:20:40 PDT 2009  NO_QUERY   \n",
       "23      0  1467814192  Mon Apr 06 22:20:41 PDT 2009  NO_QUERY   \n",
       "24      0  1467814438  Mon Apr 06 22:20:44 PDT 2009  NO_QUERY   \n",
       "25      0  1467814783  Mon Apr 06 22:20:50 PDT 2009  NO_QUERY   \n",
       "26      0  1467814883  Mon Apr 06 22:20:52 PDT 2009  NO_QUERY   \n",
       "27      0  1467815199  Mon Apr 06 22:20:56 PDT 2009  NO_QUERY   \n",
       "28      0  1467815753  Mon Apr 06 22:21:04 PDT 2009  NO_QUERY   \n",
       "29      0  1467815923  Mon Apr 06 22:21:07 PDT 2009  NO_QUERY   \n",
       "30      0  1467815924  Mon Apr 06 22:21:07 PDT 2009  NO_QUERY   \n",
       "31      0  1467815988  Mon Apr 06 22:21:09 PDT 2009  NO_QUERY   \n",
       "32      0  1467816149  Mon Apr 06 22:21:11 PDT 2009  NO_QUERY   \n",
       "33      0  1467816665  Mon Apr 06 22:21:21 PDT 2009  NO_QUERY   \n",
       "34      0  1467816749  Mon Apr 06 22:21:20 PDT 2009  NO_QUERY   \n",
       "35      0  1467817225  Mon Apr 06 22:21:27 PDT 2009  NO_QUERY   \n",
       "36      0  1467817374  Mon Apr 06 22:21:30 PDT 2009  NO_QUERY   \n",
       "37      0  1467817502  Mon Apr 06 22:21:32 PDT 2009  NO_QUERY   \n",
       "38      0  1467818007  Mon Apr 06 22:21:39 PDT 2009  NO_QUERY   \n",
       "39      0  1467818020  Mon Apr 06 22:21:39 PDT 2009  NO_QUERY   \n",
       "40      0  1467818481  Mon Apr 06 22:21:46 PDT 2009  NO_QUERY   \n",
       "41      0  1467818603  Mon Apr 06 22:21:49 PDT 2009  NO_QUERY   \n",
       "42      0  1467818900  Mon Apr 06 22:21:53 PDT 2009  NO_QUERY   \n",
       "43      0  1467819022  Mon Apr 06 22:21:56 PDT 2009  NO_QUERY   \n",
       "44      0  1467819650  Mon Apr 06 22:22:05 PDT 2009  NO_QUERY   \n",
       "45      0  1467819712  Mon Apr 06 22:22:06 PDT 2009  NO_QUERY   \n",
       "46      0  1467819812  Mon Apr 06 22:22:07 PDT 2009  NO_QUERY   \n",
       "47      0  1467820206  Mon Apr 06 22:22:13 PDT 2009  NO_QUERY   \n",
       "48      0  1467820835  Mon Apr 06 22:22:25 PDT 2009  NO_QUERY   \n",
       "49      0  1467820863  Mon Apr 06 22:22:23 PDT 2009  NO_QUERY   \n",
       "\n",
       "           username                                              tweet  \n",
       "0     scotthamilton  [is, upset, that, he, can, t, update, his, fac...  \n",
       "1          mattycus  [i, dived, many, times, for, the, ball, manage...  \n",
       "2           ElleCTF  [my, whole, body, feels, itchy, and, like, its...  \n",
       "3            Karoli  [no, it, s, not, behaving, at, all, i, m, mad,...  \n",
       "4          joy_wolf                            [not, the, whole, crew]  \n",
       "5           mybirch                                     [need, a, hug]  \n",
       "6              coZZ  [hey, long, time, no, see, yes, rains, a, bit,...  \n",
       "7   2Hood4Hollywood                    [nope, they, didn, t, have, it]  \n",
       "8           mimismo                                   [que, me, muera]  \n",
       "9    erinx3leannexo   [spring, break, in, plain, city, it, s, snowing]  \n",
       "10     pardonlauren                   [i, just, re, pierced, my, ears]  \n",
       "11             TLeC  [i, couldn, t, bear, to, watch, it, and, i, th...  \n",
       "12  robrobbierobert  [it, it, counts, idk, why, i, did, either, you...  \n",
       "13      bayofwolves  [i, would, ve, been, the, first, but, i, didn,...  \n",
       "14       HairByJess  [i, wish, i, got, to, watch, it, with, you, i,...  \n",
       "15   lovesongwriter  [hollis, death, scene, will, hurt, me, severel...  \n",
       "16         armotley                           [about, to, file, taxes]  \n",
       "17       starkissed  [ahh, ive, always, wanted, to, see, rent, love...  \n",
       "18        gi_gi_bee  [oh, dear, were, you, drinking, out, of, the, ...  \n",
       "19           quanvu  [i, was, out, most, of, the, day, so, didn, t,...  \n",
       "20       swinspeedx  [one, of, my, friend, called, me, and, asked, ...  \n",
       "21        cooliodoc         [i, baked, you, a, cake, but, i, ated, it]  \n",
       "22       viJILLante    [this, week, is, not, going, as, i, had, hoped]  \n",
       "23       Ljelli3166                       [blagh, class, at, tomorrow]  \n",
       "24    ChicagoCubbie  [i, hate, when, i, have, to, call, and, wake, ...  \n",
       "25      KatieAngell  [just, going, to, cry, myself, to, sleep, afte...  \n",
       "26            gagoo                        [im, sad, now, miss, lilly]  \n",
       "27          abel209  [ooooh, lol, that, leslie, and, ok, i, won, t,...  \n",
       "28  BaptisteTheFool  [meh, almost, lover, is, the, exception, this,...  \n",
       "29        fatkat309  [some, hacked, my, account, on, aim, now, i, h...  \n",
       "30            EmCDL  [i, want, to, go, to, promote, gear, and, groo...  \n",
       "31         merisssa  [thought, sleeping, in, was, an, option, tomor...  \n",
       "32         Pbearfox   [awe, i, love, you, too, am, here, i, miss, you]  \n",
       "33             jsoo    [i, cry, my, asian, eyes, to, sleep, at, night]  \n",
       "34   scarletletterm  [ok, i, m, sick, and, spent, an, hour, sitting...  \n",
       "35      crosland_12  [ill, tell, ya, the, story, later, not, a, goo...  \n",
       "36          ajaxpro                [sorry, bed, time, came, here, gmt]  \n",
       "37          Tmttq86  [i, don, t, either, its, depressing, i, don, t...  \n",
       "38   Anthony_Nguyen  [bed, class, work, gym, or, then, class, 0, an...  \n",
       "39       itsanimesh  [really, don, t, feel, like, getting, up, toda...  \n",
       "40        lionslamb  [he, s, the, reason, for, the, teardrops, on, ...  \n",
       "41        kennypham  [sad, sad, sad, i, don, t, know, why, but, i, ...  \n",
       "42   DdubsShellBell  [awww, i, soo, wish, i, was, there, to, see, y...  \n",
       "43      hpfangirl94  [falling, asleep, just, heard, about, that, tr...  \n",
       "44        antzpantz  [yay, i, m, happy, for, you, with, your, job, ...  \n",
       "45        labrt2004  [just, checked, my, user, timeline, on, my, bl...  \n",
       "46        IrisJumbe  [oh, man, was, ironing, fave, top, to, wear, t...  \n",
       "47         peacoats  [is, strangely, sad, about, lilo, and, samro, ...  \n",
       "48         cyantist  [oh, i, m, so, sorry, i, didn, t, think, about...  \n",
       "49           tautao  [broadband, plan, a, massive, broken, promise,...  "
      ]
     },
     "execution_count": 117,
     "metadata": {},
     "output_type": "execute_result"
    }
   ],
   "source": [
    "data.head(50)"
   ]
  },
  {
   "attachments": {
    "image.png": {
     "image/png": "[encoded data removed]"
    }
   },
   "cell_type": "markdown",
   "id": "62b05a11",
   "metadata": {},
   "source": [
    "#### Stemming: \n",
    "- Might be preferred in applications where speed is crucial and a slight loss of accuracy is acceptable (e.g., in some information retrieval systems or when dealing with very large datasets).   \n",
    "![image.png](attachment:image.png)\n",
    "\n",
    "#### Lemmatization: \n",
    "- Process: Lemmatization is a more sophisticated process that uses a vocabulary (like WordNet) and morphological analysis to determine the base or dictionary form of a word, which is known as the lemma.\n",
    "\n",
    " \n",
    "- Is generally preferred when the meaning of the word is important for downstream tasks, such as in chatbots, machine translation, text summarization, and sentiment analysis where understanding the context is key.\n",
    "\n",
    "   \n",
    "\n"
   ]
  },
  {
   "cell_type": "code",
   "execution_count": 118,
   "id": "c56990e9",
   "metadata": {},
   "outputs": [
    {
     "data": {
      "text/plain": [
       "(1599999, 6)"
      ]
     },
     "execution_count": 118,
     "metadata": {},
     "output_type": "execute_result"
    }
   ],
   "source": [
    "data.shape"
   ]
  },
  {
   "cell_type": "markdown",
   "id": "28dff5cd",
   "metadata": {},
   "source": [
    "## Part 3: Further Text Transformation"
   ]
  },
  {
   "cell_type": "code",
   "execution_count": 119,
   "id": "43857cdb-0ed9-4de8-b28b-abcd5b651be8",
   "metadata": {},
   "outputs": [
    {
     "name": "stderr",
     "output_type": "stream",
     "text": [
      "[nltk_data] Downloading package averaged_perceptron_tagger_eng to\n",
      "[nltk_data]     C:\\Users\\HP-Miko\\AppData\\Roaming\\nltk_data...\n",
      "[nltk_data]   Package averaged_perceptron_tagger_eng is already up-to-\n",
      "[nltk_data]       date!\n"
     ]
    },
    {
     "data": {
      "text/plain": [
       "True"
      ]
     },
     "execution_count": 119,
     "metadata": {},
     "output_type": "execute_result"
    }
   ],
   "source": [
    "import nltk\n",
    "nltk.download('averaged_perceptron_tagger_eng')"
   ]
  },
  {
   "cell_type": "code",
   "execution_count": 120,
   "id": "d44c3f79",
   "metadata": {},
   "outputs": [],
   "source": [
    "# data['tweet'] = data['tweet'].apply(lambda x: lemmatizer_with_pos(x))"
   ]
  },
  {
   "cell_type": "code",
   "execution_count": 121,
   "id": "a11a7223",
   "metadata": {},
   "outputs": [
    {
     "data": {
      "text/plain": [
       "(1599999, 6)"
      ]
     },
     "execution_count": 121,
     "metadata": {},
     "output_type": "execute_result"
    }
   ],
   "source": [
    "data.shape"
   ]
  },
  {
   "cell_type": "code",
   "execution_count": 122,
   "id": "01a0d901-f577-44df-92cf-40053bf5cfc4",
   "metadata": {},
   "outputs": [],
   "source": [
    "data2 = data[['label','tweet']].copy()"
   ]
  },
  {
   "cell_type": "code",
   "execution_count": 123,
   "id": "427f8ab7-7ed1-4831-af7c-0a912cb3078f",
   "metadata": {},
   "outputs": [
    {
     "data": {
      "text/plain": [
       "<bound method NDFrame.head of          label                                              tweet\n",
       "0            0  [is, upset, that, he, can, t, update, his, fac...\n",
       "1            0  [i, dived, many, times, for, the, ball, manage...\n",
       "2            0  [my, whole, body, feels, itchy, and, like, its...\n",
       "3            0  [no, it, s, not, behaving, at, all, i, m, mad,...\n",
       "4            0                            [not, the, whole, crew]\n",
       "...        ...                                                ...\n",
       "1599994      1  [just, woke, up, having, no, school, is, the, ...\n",
       "1599995      1  [thewdb, com, very, cool, to, hear, old, walt,...\n",
       "1599996      1  [are, you, ready, for, your, mojo, makeover, a...\n",
       "1599997      1  [happy, th, birthday, to, my, boo, of, alll, t...\n",
       "1599998      1                                            [happy]\n",
       "\n",
       "[1599999 rows x 2 columns]>"
      ]
     },
     "execution_count": 123,
     "metadata": {},
     "output_type": "execute_result"
    }
   ],
   "source": [
    "data2.head"
   ]
  },
  {
   "cell_type": "code",
   "execution_count": 124,
   "id": "d29ccb99",
   "metadata": {},
   "outputs": [],
   "source": [
    "#save the data into pickle file\n",
    "data2.to_pickle('final cleaned data input without any embedding without punctuation without stop words without lemmatization.pkl')"
   ]
  },
  {
   "cell_type": "code",
   "execution_count": null,
   "id": "36bc0998-836b-43a7-b9c1-71340ef9bb96",
   "metadata": {},
   "outputs": [],
   "source": []
  }
 ],
 "metadata": {
  "kernelspec": {
   "display_name": "Python 3 (ipykernel)",
   "language": "python",
   "name": "python3"
  },
  "language_info": {
   "codemirror_mode": {
    "name": "ipython",
    "version": 3
   },
   "file_extension": ".py",
   "mimetype": "text/x-python",
   "name": "python",
   "nbconvert_exporter": "python",
   "pygments_lexer": "ipython3",
   "version": "3.12.4"
  }
 },
 "nbformat": 4,
 "nbformat_minor": 5
}
