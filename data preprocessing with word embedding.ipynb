{
 "cells": [
  {
   "cell_type": "code",
   "execution_count": 2,
   "id": "26b687ab",
   "metadata": {},
   "outputs": [
    {
     "name": "stdout",
     "output_type": "stream",
     "text": [
      "Collecting nltk\n",
      "  Downloading nltk-3.9.1-py3-none-any.whl.metadata (2.9 kB)\n",
      "Collecting click (from nltk)\n",
      "  Downloading click-8.1.8-py3-none-any.whl.metadata (2.3 kB)\n",
      "Requirement already satisfied: joblib in c:\\users\\hp-miko\\miniconda3\\lib\\site-packages (from nltk) (1.4.2)\n",
      "Collecting regex>=2021.8.3 (from nltk)\n",
      "  Downloading regex-2024.11.6-cp312-cp312-win_amd64.whl.metadata (41 kB)\n",
      "     ---------------------------------------- 0.0/41.5 kB ? eta -:--:--\n",
      "     --------- ------------------------------ 10.2/41.5 kB ? eta -:--:--\n",
      "     ------------------ ------------------- 20.5/41.5 kB 320.0 kB/s eta 0:00:01\n",
      "     -------------------------------------- 41.5/41.5 kB 396.3 kB/s eta 0:00:00\n",
      "Requirement already satisfied: tqdm in c:\\users\\hp-miko\\miniconda3\\lib\\site-packages (from nltk) (4.66.4)\n",
      "Requirement already satisfied: colorama in c:\\users\\hp-miko\\miniconda3\\lib\\site-packages (from click->nltk) (0.4.6)\n",
      "Downloading nltk-3.9.1-py3-none-any.whl (1.5 MB)\n",
      "   ---------------------------------------- 0.0/1.5 MB ? eta -:--:--\n",
      "   - -------------------------------------- 0.1/1.5 MB 1.6 MB/s eta 0:00:01\n",
      "   ---- ----------------------------------- 0.2/1.5 MB 2.1 MB/s eta 0:00:01\n",
      "   -------- ------------------------------- 0.3/1.5 MB 3.0 MB/s eta 0:00:01\n",
      "   -------------- ------------------------- 0.6/1.5 MB 3.5 MB/s eta 0:00:01\n",
      "   --------------------- ------------------ 0.8/1.5 MB 4.3 MB/s eta 0:00:01\n",
      "   ---------------------------- ----------- 1.1/1.5 MB 4.5 MB/s eta 0:00:01\n",
      "   ----------------------------------- ---- 1.3/1.5 MB 5.0 MB/s eta 0:00:01\n",
      "   ---------------------------------------  1.5/1.5 MB 5.0 MB/s eta 0:00:01\n",
      "   ---------------------------------------- 1.5/1.5 MB 4.8 MB/s eta 0:00:00\n",
      "Downloading regex-2024.11.6-cp312-cp312-win_amd64.whl (273 kB)\n",
      "   ---------------------------------------- 0.0/273.6 kB ? eta -:--:--\n",
      "   -------------------------------------- - 266.2/273.6 kB 8.3 MB/s eta 0:00:01\n",
      "   ---------------------------------------- 273.6/273.6 kB 5.6 MB/s eta 0:00:00\n",
      "Downloading click-8.1.8-py3-none-any.whl (98 kB)\n",
      "   ---------------------------------------- 0.0/98.2 kB ? eta -:--:--\n",
      "   ---------------------------------------- 98.2/98.2 kB 5.9 MB/s eta 0:00:00\n",
      "Installing collected packages: regex, click, nltk\n",
      "Successfully installed click-8.1.8 nltk-3.9.1 regex-2024.11.6\n"
     ]
    },
    {
     "name": "stderr",
     "output_type": "stream",
     "text": [
      "[nltk_data] Downloading package wordnet to C:\\Users\\HP-\n",
      "[nltk_data]     Miko\\AppData\\Roaming\\nltk_data...\n",
      "[nltk_data] Downloading package punkt to C:\\Users\\HP-\n",
      "[nltk_data]     Miko\\AppData\\Roaming\\nltk_data...\n",
      "[nltk_data]   Unzipping tokenizers\\punkt.zip.\n"
     ]
    }
   ],
   "source": [
    "!pip install nltk\n",
    "import matplotlib.pyplot as plt\n",
    "import pandas as pd\n",
    "import numpy as np\n",
    "import re\n",
    "from sklearn.linear_model import LogisticRegression\n",
    "from sklearn.model_selection import train_test_split\n",
    "from sklearn.feature_extraction.text import TfidfVectorizer\n",
    "from sklearn.metrics import confusion_matrix, classification_report\n",
    "import nltk\n",
    "nltk.download('wordnet')\n",
    "nltk.download('punkt')\n",
    "import string"
   ]
  },
  {
   "cell_type": "code",
   "execution_count": 3,
   "id": "7b45989e",
   "metadata": {},
   "outputs": [
    {
     "name": "stdout",
     "output_type": "stream",
     "text": [
      "Requirement already satisfied: gensim in c:\\users\\hp-miko\\miniconda3\\lib\\site-packages (4.3.3)\n",
      "Requirement already satisfied: numpy<2.0,>=1.18.5 in c:\\users\\hp-miko\\miniconda3\\lib\\site-packages (from gensim) (1.26.4)\n",
      "Requirement already satisfied: scipy<1.14.0,>=1.7.0 in c:\\users\\hp-miko\\miniconda3\\lib\\site-packages (from gensim) (1.13.1)\n",
      "Requirement already satisfied: smart-open>=1.8.1 in c:\\users\\hp-miko\\miniconda3\\lib\\site-packages (from gensim) (7.1.0)\n",
      "Requirement already satisfied: wrapt in c:\\users\\hp-miko\\miniconda3\\lib\\site-packages (from smart-open>=1.8.1->gensim) (1.17.2)\n"
     ]
    }
   ],
   "source": [
    "!pip install gensim"
   ]
  },
  {
   "cell_type": "code",
   "execution_count": 4,
   "id": "819a9438",
   "metadata": {},
   "outputs": [],
   "source": [
    "# using dataset sentiment140 (160k rows)\n",
    "data = pd.read_csv('twitter dataset.csv', encoding='iso-8859-1')"
   ]
  },
  {
   "cell_type": "code",
   "execution_count": 5,
   "id": "e49fccba",
   "metadata": {},
   "outputs": [
    {
     "data": {
      "text/html": [
       "<div>\n",
       "<style scoped>\n",
       "    .dataframe tbody tr th:only-of-type {\n",
       "        vertical-align: middle;\n",
       "    }\n",
       "\n",
       "    .dataframe tbody tr th {\n",
       "        vertical-align: top;\n",
       "    }\n",
       "\n",
       "    .dataframe thead th {\n",
       "        text-align: right;\n",
       "    }\n",
       "</style>\n",
       "<table border=\"1\" class=\"dataframe\">\n",
       "  <thead>\n",
       "    <tr style=\"text-align: right;\">\n",
       "      <th></th>\n",
       "      <th>0</th>\n",
       "      <th>1467810369</th>\n",
       "      <th>Mon Apr 06 22:19:45 PDT 2009</th>\n",
       "      <th>NO_QUERY</th>\n",
       "      <th>_TheSpecialOne_</th>\n",
       "      <th>@switchfoot http://twitpic.com/2y1zl - Awww, that's a bummer.  You shoulda got David Carr of Third Day to do it. ;D</th>\n",
       "    </tr>\n",
       "  </thead>\n",
       "  <tbody>\n",
       "    <tr>\n",
       "      <th>0</th>\n",
       "      <td>0</td>\n",
       "      <td>1467810672</td>\n",
       "      <td>Mon Apr 06 22:19:49 PDT 2009</td>\n",
       "      <td>NO_QUERY</td>\n",
       "      <td>scotthamilton</td>\n",
       "      <td>is upset that he can't update his Facebook by ...</td>\n",
       "    </tr>\n",
       "    <tr>\n",
       "      <th>1</th>\n",
       "      <td>0</td>\n",
       "      <td>1467810917</td>\n",
       "      <td>Mon Apr 06 22:19:53 PDT 2009</td>\n",
       "      <td>NO_QUERY</td>\n",
       "      <td>mattycus</td>\n",
       "      <td>@Kenichan I dived many times for the ball. Man...</td>\n",
       "    </tr>\n",
       "    <tr>\n",
       "      <th>2</th>\n",
       "      <td>0</td>\n",
       "      <td>1467811184</td>\n",
       "      <td>Mon Apr 06 22:19:57 PDT 2009</td>\n",
       "      <td>NO_QUERY</td>\n",
       "      <td>ElleCTF</td>\n",
       "      <td>my whole body feels itchy and like its on fire</td>\n",
       "    </tr>\n",
       "    <tr>\n",
       "      <th>3</th>\n",
       "      <td>0</td>\n",
       "      <td>1467811193</td>\n",
       "      <td>Mon Apr 06 22:19:57 PDT 2009</td>\n",
       "      <td>NO_QUERY</td>\n",
       "      <td>Karoli</td>\n",
       "      <td>@nationwideclass no, it's not behaving at all....</td>\n",
       "    </tr>\n",
       "    <tr>\n",
       "      <th>4</th>\n",
       "      <td>0</td>\n",
       "      <td>1467811372</td>\n",
       "      <td>Mon Apr 06 22:20:00 PDT 2009</td>\n",
       "      <td>NO_QUERY</td>\n",
       "      <td>joy_wolf</td>\n",
       "      <td>@Kwesidei not the whole crew</td>\n",
       "    </tr>\n",
       "  </tbody>\n",
       "</table>\n",
       "</div>"
      ],
      "text/plain": [
       "   0  1467810369  Mon Apr 06 22:19:45 PDT 2009  NO_QUERY _TheSpecialOne_  \\\n",
       "0  0  1467810672  Mon Apr 06 22:19:49 PDT 2009  NO_QUERY   scotthamilton   \n",
       "1  0  1467810917  Mon Apr 06 22:19:53 PDT 2009  NO_QUERY        mattycus   \n",
       "2  0  1467811184  Mon Apr 06 22:19:57 PDT 2009  NO_QUERY         ElleCTF   \n",
       "3  0  1467811193  Mon Apr 06 22:19:57 PDT 2009  NO_QUERY          Karoli   \n",
       "4  0  1467811372  Mon Apr 06 22:20:00 PDT 2009  NO_QUERY        joy_wolf   \n",
       "\n",
       "  @switchfoot http://twitpic.com/2y1zl - Awww, that's a bummer.  You shoulda got David Carr of Third Day to do it. ;D  \n",
       "0  is upset that he can't update his Facebook by ...                                                                   \n",
       "1  @Kenichan I dived many times for the ball. Man...                                                                   \n",
       "2    my whole body feels itchy and like its on fire                                                                    \n",
       "3  @nationwideclass no, it's not behaving at all....                                                                   \n",
       "4                      @Kwesidei not the whole crew                                                                    "
      ]
     },
     "execution_count": 5,
     "metadata": {},
     "output_type": "execute_result"
    }
   ],
   "source": [
    "data.head()"
   ]
  },
  {
   "cell_type": "code",
   "execution_count": 6,
   "id": "56f857ee",
   "metadata": {},
   "outputs": [
    {
     "data": {
      "text/plain": [
       "Index(['label', 'id', 'timestamp', 'no_query', 'username', 'tweet'], dtype='object')"
      ]
     },
     "execution_count": 6,
     "metadata": {},
     "output_type": "execute_result"
    }
   ],
   "source": [
    "data.columns = ['label', 'id', 'timestamp','no_query', 'username','tweet']\n",
    "data.columns"
   ]
  },
  {
   "cell_type": "code",
   "execution_count": 7,
   "id": "924d9ddf",
   "metadata": {},
   "outputs": [
    {
     "data": {
      "text/plain": [
       "0     is upset that he can't update his Facebook by ...\n",
       "1     @Kenichan I dived many times for the ball. Man...\n",
       "2       my whole body feels itchy and like its on fire \n",
       "3     @nationwideclass no, it's not behaving at all....\n",
       "4                         @Kwesidei not the whole crew \n",
       "5                                           Need a hug \n",
       "6     @LOLTrish hey  long time no see! Yes.. Rains a...\n",
       "7                  @Tatiana_K nope they didn't have it \n",
       "8                             @twittera que me muera ? \n",
       "9           spring break in plain city... it's snowing \n",
       "10                           I just re-pierced my ears \n",
       "11    @caregiving I couldn't bear to watch it.  And ...\n",
       "12    @octolinz16 It it counts, idk why I did either...\n",
       "13    @smarrison i would've been the first, but i di...\n",
       "14    @iamjazzyfizzle I wish I got to watch it with ...\n",
       "15    Hollis' death scene will hurt me severely to w...\n",
       "16                                 about to file taxes \n",
       "17    @LettyA ahh ive always wanted to see rent  lov...\n",
       "18    @FakerPattyPattz Oh dear. Were you drinking ou...\n",
       "19    @alydesigns i was out most of the day so didn'...\n",
       "20    one of my friend called me, and asked to meet ...\n",
       "21     @angry_barista I baked you a cake but I ated it \n",
       "22               this week is not going as i had hoped \n",
       "23                           blagh class at 8 tomorrow \n",
       "24       I hate when I have to call and wake people up \n",
       "25    Just going to cry myself to sleep after watchi...\n",
       "26                               im sad now  Miss.Lilly\n",
       "27    ooooh.... LOL  that leslie.... and ok I won't ...\n",
       "28    Meh... Almost Lover is the exception... this t...\n",
       "29    some1 hacked my account on aim  now i have to ...\n",
       "30    @alielayus I want to go to promote GEAR AND GR...\n",
       "31    thought sleeping in was an option tomorrow but...\n",
       "32    @julieebaby awe i love you too!!!! 1 am here  ...\n",
       "33    @HumpNinja I cry my asian eyes to sleep at night \n",
       "34    ok I'm sick and spent an hour sitting in the s...\n",
       "35    @cocomix04 ill tell ya the story later  not a ...\n",
       "36    @MissXu sorry! bed time came here (GMT+1)   ht...\n",
       "37    @fleurylis I don't either. Its depressing. I d...\n",
       "38    Bed. Class 8-12. Work 12-3. Gym 3-5 or 6. Then...\n",
       "39    really don't feel like getting up today... but...\n",
       "40    He's the reason for the teardrops on my guitar...\n",
       "41    Sad, sad, sad. I don't know why but I hate thi...\n",
       "42    @JonathanRKnight Awww I soo wish I was there t...\n",
       "43    Falling asleep. Just heard about that Tracy gi...\n",
       "44    @Viennah Yay! I'm happy for you with your job!...\n",
       "45    Just checked my user timeline on my blackberry...\n",
       "46    Oh man...was ironing @jeancjumbe's fave top to...\n",
       "47    is strangely sad about LiLo and SamRo breaking...\n",
       "48    @tea oh! i'm so sorry  i didn't think about th...\n",
       "49    Broadband plan 'a massive broken promise' http...\n",
       "Name: tweet, dtype: object"
      ]
     },
     "execution_count": 7,
     "metadata": {},
     "output_type": "execute_result"
    }
   ],
   "source": [
    "data['tweet'].head(50)"
   ]
  },
  {
   "cell_type": "code",
   "execution_count": 8,
   "id": "c6e66f7d",
   "metadata": {},
   "outputs": [
    {
     "data": {
      "text/plain": [
       "0"
      ]
     },
     "execution_count": 8,
     "metadata": {},
     "output_type": "execute_result"
    }
   ],
   "source": [
    "np.sum(data.isnull().any(axis=1))"
   ]
  },
  {
   "cell_type": "code",
   "execution_count": 9,
   "id": "d24179ec",
   "metadata": {},
   "outputs": [
    {
     "data": {
      "text/plain": [
       "(1599999, 6)"
      ]
     },
     "execution_count": 9,
     "metadata": {},
     "output_type": "execute_result"
    }
   ],
   "source": [
    "data.shape"
   ]
  },
  {
   "cell_type": "code",
   "execution_count": 10,
   "id": "4aea9a04",
   "metadata": {},
   "outputs": [
    {
     "name": "stdout",
     "output_type": "stream",
     "text": [
      "[0 4]\n",
      "2\n"
     ]
    }
   ],
   "source": [
    "print(data['label'].unique())\n",
    "print(data['label'].nunique())"
   ]
  },
  {
   "cell_type": "code",
   "execution_count": null,
   "id": "b8f86666",
   "metadata": {},
   "outputs": [],
   "source": [
    "!pip install seaborn\n",
    "import seaborn as sns\n",
    "sns.countplot(x='label', data=data)"
   ]
  },
  {
   "cell_type": "markdown",
   "id": "f880c7ac",
   "metadata": {},
   "source": [
    "#### so the proportion between negative and positive sentiments are balance"
   ]
  },
  {
   "cell_type": "markdown",
   "id": "cdc269bf",
   "metadata": {},
   "source": [
    "# Data Preprocessing"
   ]
  },
  {
   "cell_type": "code",
   "execution_count": null,
   "id": "e19f6b85",
   "metadata": {},
   "outputs": [],
   "source": [
    "# First of all, having two labels 0 and 4 are confusing, I will just subtitute the label into 0, and 1:"
   ]
  },
  {
   "cell_type": "code",
   "execution_count": 26,
   "id": "7a88377d",
   "metadata": {},
   "outputs": [
    {
     "name": "stdout",
     "output_type": "stream",
     "text": [
      "[0 1]\n"
     ]
    }
   ],
   "source": [
    "data['label'] = data['label'].replace(4,1)\n",
    "print(data['label'].unique())"
   ]
  },
  {
   "cell_type": "code",
   "execution_count": 27,
   "id": "f2b3d1a7",
   "metadata": {},
   "outputs": [
    {
     "name": "stdout",
     "output_type": "stream",
     "text": [
      "800000 799999\n"
     ]
    }
   ],
   "source": [
    "# Now, I will separate positive and negative tweets into two different variables\n",
    "positive_tweets = data[data['label'] == 1]\n",
    "negative_tweets = data[data['label'] == 0]\n",
    "print(len(positive_tweets), len(negative_tweets))"
   ]
  },
  {
   "cell_type": "markdown",
   "id": "cd6d3244",
   "metadata": {},
   "source": [
    "## Part 1\n",
    "\n",
    "in this data preprocessing, I will do some cleaning and data transformation as follows:\n",
    "1. remove URLs\n",
    "2. remove user mentiones (@username)\n",
    "3. remove hastags\n",
    "4. remove special characters and punctuations\n",
    "5. convert them to lower case\n",
    "6. remove stop words\n",
    "7. removing numbers\n",
    "\n",
    "## Part 2\n",
    "Tokenization\n",
    "A. Perform tokenization using nltk\n",
    "\n",
    "## Part 3\n",
    "Further text normalization\n",
    "- Handle negations (such as 'no' , \"never\") since it might flip the sentiment of a sentence\n",
    "- Correcting spelling error\n",
    "- Handles emoji and emoticon **(no emoji and emoticon in this particular dataset)**\n",
    "- Stemming or Lematization (reduce words to their root form e.g. running become run)\n",
    "\n",
    "\n",
    "Final Transformation for modeling:\n",
    "Text Vectorization (convert text into Numerical format so that ML model can understand) \n",
    "e.g. Bag of Words, TF-IDF (TfidfVectorizer), word embedding using pre-trained model such as Word2Vec or GloVe, Transformer Embedding (like BERT)\n",
    "\n"
   ]
  },
  {
   "cell_type": "code",
   "execution_count": 38,
   "id": "ac5499ab-437b-4180-bf7a-22c665a165a5",
   "metadata": {},
   "outputs": [
    {
     "name": "stdout",
     "output_type": "stream",
     "text": [
      "<class 'pandas.core.frame.DataFrame'>\n",
      "RangeIndex: 1599999 entries, 0 to 1599998\n",
      "Data columns (total 6 columns):\n",
      " #   Column     Non-Null Count    Dtype \n",
      "---  ------     --------------    ----- \n",
      " 0   label      1599999 non-null  int64 \n",
      " 1   id         1599999 non-null  int64 \n",
      " 2   timestamp  1599999 non-null  object\n",
      " 3   no_query   1599999 non-null  object\n",
      " 4   username   1599999 non-null  object\n",
      " 5   tweet      1599999 non-null  object\n",
      "dtypes: int64(2), object(4)\n",
      "memory usage: 73.2+ MB\n"
     ]
    }
   ],
   "source": [
    "data.info()"
   ]
  },
  {
   "cell_type": "code",
   "execution_count": 28,
   "id": "1b614b68",
   "metadata": {},
   "outputs": [],
   "source": [
    "def remove_url(text):\n",
    "    return re.sub(r'((www\\.[^\\s]+)|(https?://[^\\s]+))', ' ', text)"
   ]
  },
  {
   "cell_type": "code",
   "execution_count": 29,
   "id": "d397e2be",
   "metadata": {},
   "outputs": [],
   "source": [
    "def remove_stopwords(text):\n",
    "    stopwordlist = ['a', 'about', 'above', 'after', 'again', 'ain', 'all', 'am', 'an',\n",
    "             'and','any','are', 'as', 'at', 'be', 'because', 'been', 'before',\n",
    "             'being', 'below', 'between','both', 'by', 'can', 'd', 'did', 'do',\n",
    "             'does', 'doing', 'down', 'during', 'each','few', 'for', 'from',\n",
    "             'further', 'had', 'has', 'have', 'having', 'he', 'her', 'here',\n",
    "             'hers', 'herself', 'him', 'himself', 'his', 'how', 'i', 'if', 'in',\n",
    "             'into','is', 'it', 'its', 'itself', 'just', 'll', 'm', 'ma',\n",
    "             'me', 'more', 'most','my', 'myself', 'now', 'o', 'of', 'on', 'once',\n",
    "             'only', 'or', 'other', 'our', 'ours','ourselves', 'out', 'own', 're','s', 'same', 'she', \"shes\", 'should', \"shouldve\",'so', 'some', 'such',\n",
    "             't', 'than', 'that', \"thatll\", 'the', 'their', 'theirs', 'them',\n",
    "             'themselves', 'then', 'there', 'these', 'they', 'this', 'those',\n",
    "             'through', 'to', 'too','under', 'until', 'up', 've', 'very', 'was',\n",
    "             'we', 'were', 'what', 'when', 'where','which','while', 'who', 'whom',\n",
    "             'why', 'will', 'with', 'won', 'y', 'you', \"youd\",\"youll\", \"youre\",\n",
    "             \"youve\", 'your', 'yours', 'yourself', 'yourselves']\n",
    "    return \" \".join([word for word in str(text).split() if word not in stopwordlist])\n"
   ]
  },
  {
   "cell_type": "code",
   "execution_count": 30,
   "id": "6889604c",
   "metadata": {},
   "outputs": [],
   "source": [
    "def remove_user_mentiones(text):\n",
    "    return re.sub(r'((@[^\\s]+))', ' ', text)"
   ]
  },
  {
   "cell_type": "code",
   "execution_count": 31,
   "id": "299cbad6",
   "metadata": {},
   "outputs": [],
   "source": [
    "def remove_hastag(text):\n",
    "    return re.sub(r'((#[^\\s]+))', ' ', text)"
   ]
  },
  {
   "cell_type": "code",
   "execution_count": 32,
   "id": "d28aff60",
   "metadata": {},
   "outputs": [],
   "source": [
    "#!\"#$%&'()*+,-./:;<=>?@[\\]^_`{|}~\n",
    "def cleaning_punctuations(text):\n",
    "    english_punctuations = string.punctuation\n",
    "    punctuations_list = english_punctuations\n",
    "    translator = str.maketrans('', '', punctuations_list)\n",
    "    return text.translate(translator)"
   ]
  },
  {
   "cell_type": "code",
   "execution_count": 33,
   "id": "5eb334b6",
   "metadata": {},
   "outputs": [],
   "source": [
    "def removing_numbers(text):\n",
    "    return re.sub(r'(([1-9]))','',text)"
   ]
  },
  {
   "cell_type": "code",
   "execution_count": 34,
   "id": "5254d3ba",
   "metadata": {},
   "outputs": [],
   "source": [
    "from nltk.corpus import wordnet\n",
    "\n",
    "def get_wordnet_pos(treebank_tag):\n",
    "    \"\"\"Convert Treebank POS tag to WordNet POS tag.\"\"\"\n",
    "    if treebank_tag.startswith('J'):\n",
    "        return wordnet.ADJ\n",
    "    elif treebank_tag.startswith('V'):\n",
    "        return wordnet.VERB\n",
    "    elif treebank_tag.startswith('N'):\n",
    "        return wordnet.NOUN\n",
    "    elif treebank_tag.startswith('R'):\n",
    "        return wordnet.ADV\n",
    "    else:\n",
    "        return wordnet.NOUN  # Default to noun if no clear mapping\n",
    "\n",
    "def lemmatizer_with_pos(tokens):\n",
    "    lm = nltk.WordNetLemmatizer()\n",
    "    lemmatized_tokens = []\n",
    "    tagged_tokens = nltk.pos_tag(tokens)  # Perform POS tagging\n",
    "    for word, tag in tagged_tokens:\n",
    "        wordnet_pos = get_wordnet_pos(tag)\n",
    "        lemmatized_tokens.append(lm.lemmatize(word, pos=wordnet_pos))\n",
    "    return lemmatized_tokens # Return a list of lemmatized tokens for direct inspection"
   ]
  },
  {
   "cell_type": "code",
   "execution_count": 45,
   "id": "4ae0a30d",
   "metadata": {},
   "outputs": [],
   "source": [
    "from nltk.tokenize import word_tokenize\n",
    "import gensim.downloader as api\n",
    "# Load a pre-trained Word2Vec model\n",
    "wv = api.load('glove-wiki-gigaword-50') # Or other models like 'glove-wiki-gigaword-100'\n",
    "\n",
    "def get_embedding(text):\n",
    "    tokens = word_tokenize(text)\n",
    "    embeddings = [wv[word] for word in tokens if word in wv]\n",
    "    if not embeddings:\n",
    "        return np.zeros(wv.vector_size)\n",
    "    return np.mean(embeddings, axis=0) # Average word embeddings for the tweet\n"
   ]
  },
  {
   "cell_type": "markdown",
   "id": "a3cdd78d",
   "metadata": {},
   "source": [
    "## Data Cleaning Part 1\n"
   ]
  },
  {
   "cell_type": "code",
   "execution_count": 39,
   "id": "bed513c6",
   "metadata": {},
   "outputs": [],
   "source": [
    "data['tweet'] = data['tweet'].apply(lambda text: remove_stopwords(text))\n",
    "data['tweet'] = data['tweet'].apply(lambda text: remove_url(text))\n",
    "data['tweet'] = data['tweet'].apply(lambda text: remove_user_mentiones(text))\n",
    "data['tweet'] = data['tweet'].apply(lambda text: remove_hastag(text))\n",
    "data['tweet'] = data['tweet'].apply(lambda text: cleaning_punctuations(text))\n",
    "data['tweet'] = data['tweet'].apply(lambda text: removing_numbers(text))\n",
    "data['tweet'] = data['tweet'].str.lower()\n"
   ]
  },
  {
   "cell_type": "code",
   "execution_count": 40,
   "id": "c6d898ed",
   "metadata": {},
   "outputs": [
    {
     "data": {
      "text/plain": [
       "(1599999, 6)"
      ]
     },
     "execution_count": 40,
     "metadata": {},
     "output_type": "execute_result"
    }
   ],
   "source": [
    "data.shape"
   ]
  },
  {
   "cell_type": "markdown",
   "id": "fa698d3a",
   "metadata": {},
   "source": [
    "## Part 2 : Tokenization"
   ]
  },
  {
   "cell_type": "code",
   "execution_count": 41,
   "id": "275456b5",
   "metadata": {},
   "outputs": [],
   "source": [
    "from nltk.tokenize import RegexpTokenizer\n",
    "tokenizer = RegexpTokenizer(r'\\w+')\n",
    "data['tweet'] = data['tweet'].apply(tokenizer.tokenize)"
   ]
  },
  {
   "cell_type": "code",
   "execution_count": 42,
   "id": "15a2352c",
   "metadata": {},
   "outputs": [
    {
     "data": {
      "text/html": [
       "<div>\n",
       "<style scoped>\n",
       "    .dataframe tbody tr th:only-of-type {\n",
       "        vertical-align: middle;\n",
       "    }\n",
       "\n",
       "    .dataframe tbody tr th {\n",
       "        vertical-align: top;\n",
       "    }\n",
       "\n",
       "    .dataframe thead th {\n",
       "        text-align: right;\n",
       "    }\n",
       "</style>\n",
       "<table border=\"1\" class=\"dataframe\">\n",
       "  <thead>\n",
       "    <tr style=\"text-align: right;\">\n",
       "      <th></th>\n",
       "      <th>label</th>\n",
       "      <th>id</th>\n",
       "      <th>timestamp</th>\n",
       "      <th>no_query</th>\n",
       "      <th>username</th>\n",
       "      <th>tweet</th>\n",
       "    </tr>\n",
       "  </thead>\n",
       "  <tbody>\n",
       "    <tr>\n",
       "      <th>0</th>\n",
       "      <td>0</td>\n",
       "      <td>1467810672</td>\n",
       "      <td>Mon Apr 06 22:19:49 PDT 2009</td>\n",
       "      <td>NO_QUERY</td>\n",
       "      <td>scotthamilton</td>\n",
       "      <td>[upset, cant, update, facebook, texting, it, m...</td>\n",
       "    </tr>\n",
       "    <tr>\n",
       "      <th>1</th>\n",
       "      <td>0</td>\n",
       "      <td>1467810917</td>\n",
       "      <td>Mon Apr 06 22:19:53 PDT 2009</td>\n",
       "      <td>NO_QUERY</td>\n",
       "      <td>mattycus</td>\n",
       "      <td>[i, dived, many, times, ball, managed, save, 0...</td>\n",
       "    </tr>\n",
       "    <tr>\n",
       "      <th>2</th>\n",
       "      <td>0</td>\n",
       "      <td>1467811184</td>\n",
       "      <td>Mon Apr 06 22:19:57 PDT 2009</td>\n",
       "      <td>NO_QUERY</td>\n",
       "      <td>ElleCTF</td>\n",
       "      <td>[whole, body, feels, itchy, like, fire]</td>\n",
       "    </tr>\n",
       "    <tr>\n",
       "      <th>3</th>\n",
       "      <td>0</td>\n",
       "      <td>1467811193</td>\n",
       "      <td>Mon Apr 06 22:19:57 PDT 2009</td>\n",
       "      <td>NO_QUERY</td>\n",
       "      <td>Karoli</td>\n",
       "      <td>[no, its, not, behaving, all, im, mad, here, i...</td>\n",
       "    </tr>\n",
       "    <tr>\n",
       "      <th>4</th>\n",
       "      <td>0</td>\n",
       "      <td>1467811372</td>\n",
       "      <td>Mon Apr 06 22:20:00 PDT 2009</td>\n",
       "      <td>NO_QUERY</td>\n",
       "      <td>joy_wolf</td>\n",
       "      <td>[not, whole, crew]</td>\n",
       "    </tr>\n",
       "    <tr>\n",
       "      <th>5</th>\n",
       "      <td>0</td>\n",
       "      <td>1467811592</td>\n",
       "      <td>Mon Apr 06 22:20:03 PDT 2009</td>\n",
       "      <td>NO_QUERY</td>\n",
       "      <td>mybirch</td>\n",
       "      <td>[need, hug]</td>\n",
       "    </tr>\n",
       "    <tr>\n",
       "      <th>6</th>\n",
       "      <td>0</td>\n",
       "      <td>1467811594</td>\n",
       "      <td>Mon Apr 06 22:20:03 PDT 2009</td>\n",
       "      <td>NO_QUERY</td>\n",
       "      <td>coZZ</td>\n",
       "      <td>[hey, long, time, no, see, yes, rains, bit, on...</td>\n",
       "    </tr>\n",
       "    <tr>\n",
       "      <th>7</th>\n",
       "      <td>0</td>\n",
       "      <td>1467811795</td>\n",
       "      <td>Mon Apr 06 22:20:05 PDT 2009</td>\n",
       "      <td>NO_QUERY</td>\n",
       "      <td>2Hood4Hollywood</td>\n",
       "      <td>[nope, didnt]</td>\n",
       "    </tr>\n",
       "    <tr>\n",
       "      <th>8</th>\n",
       "      <td>0</td>\n",
       "      <td>1467812025</td>\n",
       "      <td>Mon Apr 06 22:20:09 PDT 2009</td>\n",
       "      <td>NO_QUERY</td>\n",
       "      <td>mimismo</td>\n",
       "      <td>[que, muera]</td>\n",
       "    </tr>\n",
       "    <tr>\n",
       "      <th>9</th>\n",
       "      <td>0</td>\n",
       "      <td>1467812416</td>\n",
       "      <td>Mon Apr 06 22:20:16 PDT 2009</td>\n",
       "      <td>NO_QUERY</td>\n",
       "      <td>erinx3leannexo</td>\n",
       "      <td>[spring, break, plain, city, its, snowing]</td>\n",
       "    </tr>\n",
       "    <tr>\n",
       "      <th>10</th>\n",
       "      <td>0</td>\n",
       "      <td>1467812579</td>\n",
       "      <td>Mon Apr 06 22:20:17 PDT 2009</td>\n",
       "      <td>NO_QUERY</td>\n",
       "      <td>pardonlauren</td>\n",
       "      <td>[i, repierced, ears]</td>\n",
       "    </tr>\n",
       "    <tr>\n",
       "      <th>11</th>\n",
       "      <td>0</td>\n",
       "      <td>1467812723</td>\n",
       "      <td>Mon Apr 06 22:20:19 PDT 2009</td>\n",
       "      <td>NO_QUERY</td>\n",
       "      <td>TLeC</td>\n",
       "      <td>[i, couldnt, bear, watch, it, and, i, thought,...</td>\n",
       "    </tr>\n",
       "    <tr>\n",
       "      <th>12</th>\n",
       "      <td>0</td>\n",
       "      <td>1467812771</td>\n",
       "      <td>Mon Apr 06 22:20:19 PDT 2009</td>\n",
       "      <td>NO_QUERY</td>\n",
       "      <td>robrobbierobert</td>\n",
       "      <td>[it, counts, idk, i, either, never, talk, anym...</td>\n",
       "    </tr>\n",
       "    <tr>\n",
       "      <th>13</th>\n",
       "      <td>0</td>\n",
       "      <td>1467812784</td>\n",
       "      <td>Mon Apr 06 22:20:20 PDT 2009</td>\n",
       "      <td>NO_QUERY</td>\n",
       "      <td>bayofwolves</td>\n",
       "      <td>[wouldve, first, but, didnt, gun, not, really,...</td>\n",
       "    </tr>\n",
       "    <tr>\n",
       "      <th>14</th>\n",
       "      <td>0</td>\n",
       "      <td>1467812799</td>\n",
       "      <td>Mon Apr 06 22:20:20 PDT 2009</td>\n",
       "      <td>NO_QUERY</td>\n",
       "      <td>HairByJess</td>\n",
       "      <td>[i, wish, i, got, watch, you, i, miss, premiere]</td>\n",
       "    </tr>\n",
       "    <tr>\n",
       "      <th>15</th>\n",
       "      <td>0</td>\n",
       "      <td>1467812964</td>\n",
       "      <td>Mon Apr 06 22:20:22 PDT 2009</td>\n",
       "      <td>NO_QUERY</td>\n",
       "      <td>lovesongwriter</td>\n",
       "      <td>[hollis, death, scene, hurt, severely, watch, ...</td>\n",
       "    </tr>\n",
       "    <tr>\n",
       "      <th>16</th>\n",
       "      <td>0</td>\n",
       "      <td>1467813137</td>\n",
       "      <td>Mon Apr 06 22:20:25 PDT 2009</td>\n",
       "      <td>NO_QUERY</td>\n",
       "      <td>armotley</td>\n",
       "      <td>[file, taxes]</td>\n",
       "    </tr>\n",
       "    <tr>\n",
       "      <th>17</th>\n",
       "      <td>0</td>\n",
       "      <td>1467813579</td>\n",
       "      <td>Mon Apr 06 22:20:31 PDT 2009</td>\n",
       "      <td>NO_QUERY</td>\n",
       "      <td>starkissed</td>\n",
       "      <td>[ahh, ive, always, wanted, see, rent, love, so...</td>\n",
       "    </tr>\n",
       "    <tr>\n",
       "      <th>18</th>\n",
       "      <td>0</td>\n",
       "      <td>1467813782</td>\n",
       "      <td>Mon Apr 06 22:20:34 PDT 2009</td>\n",
       "      <td>NO_QUERY</td>\n",
       "      <td>gi_gi_bee</td>\n",
       "      <td>[oh, dear, were, drinking, forgotten, table, d...</td>\n",
       "    </tr>\n",
       "    <tr>\n",
       "      <th>19</th>\n",
       "      <td>0</td>\n",
       "      <td>1467813985</td>\n",
       "      <td>Mon Apr 06 22:20:37 PDT 2009</td>\n",
       "      <td>NO_QUERY</td>\n",
       "      <td>quanvu</td>\n",
       "      <td>[day, didnt, get, much, done]</td>\n",
       "    </tr>\n",
       "    <tr>\n",
       "      <th>20</th>\n",
       "      <td>0</td>\n",
       "      <td>1467813992</td>\n",
       "      <td>Mon Apr 06 22:20:38 PDT 2009</td>\n",
       "      <td>NO_QUERY</td>\n",
       "      <td>swinspeedx</td>\n",
       "      <td>[one, friend, called, me, asked, meet, mid, va...</td>\n",
       "    </tr>\n",
       "    <tr>\n",
       "      <th>21</th>\n",
       "      <td>0</td>\n",
       "      <td>1467814119</td>\n",
       "      <td>Mon Apr 06 22:20:40 PDT 2009</td>\n",
       "      <td>NO_QUERY</td>\n",
       "      <td>cooliodoc</td>\n",
       "      <td>[i, baked, cake, but, i, ated]</td>\n",
       "    </tr>\n",
       "    <tr>\n",
       "      <th>22</th>\n",
       "      <td>0</td>\n",
       "      <td>1467814180</td>\n",
       "      <td>Mon Apr 06 22:20:40 PDT 2009</td>\n",
       "      <td>NO_QUERY</td>\n",
       "      <td>viJILLante</td>\n",
       "      <td>[week, not, going, hoped]</td>\n",
       "    </tr>\n",
       "    <tr>\n",
       "      <th>23</th>\n",
       "      <td>0</td>\n",
       "      <td>1467814192</td>\n",
       "      <td>Mon Apr 06 22:20:41 PDT 2009</td>\n",
       "      <td>NO_QUERY</td>\n",
       "      <td>Ljelli3166</td>\n",
       "      <td>[blagh, class, tomorrow]</td>\n",
       "    </tr>\n",
       "    <tr>\n",
       "      <th>24</th>\n",
       "      <td>0</td>\n",
       "      <td>1467814438</td>\n",
       "      <td>Mon Apr 06 22:20:44 PDT 2009</td>\n",
       "      <td>NO_QUERY</td>\n",
       "      <td>ChicagoCubbie</td>\n",
       "      <td>[i, hate, i, call, wake, people]</td>\n",
       "    </tr>\n",
       "    <tr>\n",
       "      <th>25</th>\n",
       "      <td>0</td>\n",
       "      <td>1467814783</td>\n",
       "      <td>Mon Apr 06 22:20:50 PDT 2009</td>\n",
       "      <td>NO_QUERY</td>\n",
       "      <td>KatieAngell</td>\n",
       "      <td>[just, going, cry, sleep, watching, marley, me]</td>\n",
       "    </tr>\n",
       "    <tr>\n",
       "      <th>26</th>\n",
       "      <td>0</td>\n",
       "      <td>1467814883</td>\n",
       "      <td>Mon Apr 06 22:20:52 PDT 2009</td>\n",
       "      <td>NO_QUERY</td>\n",
       "      <td>gagoo</td>\n",
       "      <td>[im, sad, misslilly]</td>\n",
       "    </tr>\n",
       "    <tr>\n",
       "      <th>27</th>\n",
       "      <td>0</td>\n",
       "      <td>1467815199</td>\n",
       "      <td>Mon Apr 06 22:20:56 PDT 2009</td>\n",
       "      <td>NO_QUERY</td>\n",
       "      <td>abel209</td>\n",
       "      <td>[ooooh, lol, leslie, ok, i, wont, leslie, wont...</td>\n",
       "    </tr>\n",
       "    <tr>\n",
       "      <th>28</th>\n",
       "      <td>0</td>\n",
       "      <td>1467815753</td>\n",
       "      <td>Mon Apr 06 22:21:04 PDT 2009</td>\n",
       "      <td>NO_QUERY</td>\n",
       "      <td>BaptisteTheFool</td>\n",
       "      <td>[meh, almost, lover, exception, track, gets, d...</td>\n",
       "    </tr>\n",
       "    <tr>\n",
       "      <th>29</th>\n",
       "      <td>0</td>\n",
       "      <td>1467815923</td>\n",
       "      <td>Mon Apr 06 22:21:07 PDT 2009</td>\n",
       "      <td>NO_QUERY</td>\n",
       "      <td>fatkat309</td>\n",
       "      <td>[some, hacked, account, aim, make, new, one]</td>\n",
       "    </tr>\n",
       "    <tr>\n",
       "      <th>30</th>\n",
       "      <td>0</td>\n",
       "      <td>1467815924</td>\n",
       "      <td>Mon Apr 06 22:21:07 PDT 2009</td>\n",
       "      <td>NO_QUERY</td>\n",
       "      <td>EmCDL</td>\n",
       "      <td>[i, want, go, promote, gear, and, groove, but,...</td>\n",
       "    </tr>\n",
       "    <tr>\n",
       "      <th>31</th>\n",
       "      <td>0</td>\n",
       "      <td>1467815988</td>\n",
       "      <td>Mon Apr 06 22:21:09 PDT 2009</td>\n",
       "      <td>NO_QUERY</td>\n",
       "      <td>merisssa</td>\n",
       "      <td>[thought, sleeping, option, tomorrow, but, rea...</td>\n",
       "    </tr>\n",
       "    <tr>\n",
       "      <th>32</th>\n",
       "      <td>0</td>\n",
       "      <td>1467816149</td>\n",
       "      <td>Mon Apr 06 22:21:11 PDT 2009</td>\n",
       "      <td>NO_QUERY</td>\n",
       "      <td>Pbearfox</td>\n",
       "      <td>[awe, love, too, miss]</td>\n",
       "    </tr>\n",
       "    <tr>\n",
       "      <th>33</th>\n",
       "      <td>0</td>\n",
       "      <td>1467816665</td>\n",
       "      <td>Mon Apr 06 22:21:21 PDT 2009</td>\n",
       "      <td>NO_QUERY</td>\n",
       "      <td>jsoo</td>\n",
       "      <td>[i, cry, asian, eyes, sleep, night]</td>\n",
       "    </tr>\n",
       "    <tr>\n",
       "      <th>34</th>\n",
       "      <td>0</td>\n",
       "      <td>1467816749</td>\n",
       "      <td>Mon Apr 06 22:21:20 PDT 2009</td>\n",
       "      <td>NO_QUERY</td>\n",
       "      <td>scarletletterm</td>\n",
       "      <td>[ok, im, sick, spent, hour, sitting, shower, c...</td>\n",
       "    </tr>\n",
       "    <tr>\n",
       "      <th>35</th>\n",
       "      <td>0</td>\n",
       "      <td>1467817225</td>\n",
       "      <td>Mon Apr 06 22:21:27 PDT 2009</td>\n",
       "      <td>NO_QUERY</td>\n",
       "      <td>crosland_12</td>\n",
       "      <td>[ill, tell, ya, story, later, not, good, day, ...</td>\n",
       "    </tr>\n",
       "    <tr>\n",
       "      <th>36</th>\n",
       "      <td>0</td>\n",
       "      <td>1467817374</td>\n",
       "      <td>Mon Apr 06 22:21:30 PDT 2009</td>\n",
       "      <td>NO_QUERY</td>\n",
       "      <td>ajaxpro</td>\n",
       "      <td>[sorry, bed, time, came, gmt]</td>\n",
       "    </tr>\n",
       "    <tr>\n",
       "      <th>37</th>\n",
       "      <td>0</td>\n",
       "      <td>1467817502</td>\n",
       "      <td>Mon Apr 06 22:21:32 PDT 2009</td>\n",
       "      <td>NO_QUERY</td>\n",
       "      <td>Tmttq86</td>\n",
       "      <td>[i, dont, either, its, depressing, i, dont, th...</td>\n",
       "    </tr>\n",
       "    <tr>\n",
       "      <th>38</th>\n",
       "      <td>0</td>\n",
       "      <td>1467818007</td>\n",
       "      <td>Mon Apr 06 22:21:39 PDT 2009</td>\n",
       "      <td>NO_QUERY</td>\n",
       "      <td>Anthony_Nguyen</td>\n",
       "      <td>[bed, class, work, gym, then, class, 0, anothe...</td>\n",
       "    </tr>\n",
       "    <tr>\n",
       "      <th>39</th>\n",
       "      <td>0</td>\n",
       "      <td>1467818020</td>\n",
       "      <td>Mon Apr 06 22:21:39 PDT 2009</td>\n",
       "      <td>NO_QUERY</td>\n",
       "      <td>itsanimesh</td>\n",
       "      <td>[really, dont, feel, like, getting, today, but...</td>\n",
       "    </tr>\n",
       "    <tr>\n",
       "      <th>40</th>\n",
       "      <td>0</td>\n",
       "      <td>1467818481</td>\n",
       "      <td>Mon Apr 06 22:21:46 PDT 2009</td>\n",
       "      <td>NO_QUERY</td>\n",
       "      <td>lionslamb</td>\n",
       "      <td>[hes, reason, teardrops, guitar, one, enough, ...</td>\n",
       "    </tr>\n",
       "    <tr>\n",
       "      <th>41</th>\n",
       "      <td>0</td>\n",
       "      <td>1467818603</td>\n",
       "      <td>Mon Apr 06 22:21:49 PDT 2009</td>\n",
       "      <td>NO_QUERY</td>\n",
       "      <td>kennypham</td>\n",
       "      <td>[sad, sad, sad, i, dont, know, but, i, hate, f...</td>\n",
       "    </tr>\n",
       "    <tr>\n",
       "      <th>42</th>\n",
       "      <td>0</td>\n",
       "      <td>1467818900</td>\n",
       "      <td>Mon Apr 06 22:21:53 PDT 2009</td>\n",
       "      <td>NO_QUERY</td>\n",
       "      <td>DdubsShellBell</td>\n",
       "      <td>[awww, i, soo, wish, i, see, finally, comforta...</td>\n",
       "    </tr>\n",
       "    <tr>\n",
       "      <th>43</th>\n",
       "      <td>0</td>\n",
       "      <td>1467819022</td>\n",
       "      <td>Mon Apr 06 22:21:56 PDT 2009</td>\n",
       "      <td>NO_QUERY</td>\n",
       "      <td>hpfangirl94</td>\n",
       "      <td>[falling, asleep, just, heard, tracy, girls, b...</td>\n",
       "    </tr>\n",
       "    <tr>\n",
       "      <th>44</th>\n",
       "      <td>0</td>\n",
       "      <td>1467819650</td>\n",
       "      <td>Mon Apr 06 22:22:05 PDT 2009</td>\n",
       "      <td>NO_QUERY</td>\n",
       "      <td>antzpantz</td>\n",
       "      <td>[yay, im, happy, job, but, also, means, less, ...</td>\n",
       "    </tr>\n",
       "    <tr>\n",
       "      <th>45</th>\n",
       "      <td>0</td>\n",
       "      <td>1467819712</td>\n",
       "      <td>Mon Apr 06 22:22:06 PDT 2009</td>\n",
       "      <td>NO_QUERY</td>\n",
       "      <td>labrt2004</td>\n",
       "      <td>[just, checked, user, timeline, blackberry, lo...</td>\n",
       "    </tr>\n",
       "    <tr>\n",
       "      <th>46</th>\n",
       "      <td>0</td>\n",
       "      <td>1467819812</td>\n",
       "      <td>Mon Apr 06 22:22:07 PDT 2009</td>\n",
       "      <td>NO_QUERY</td>\n",
       "      <td>IrisJumbe</td>\n",
       "      <td>[oh, manwas, ironing, fave, top, wear, meeting...</td>\n",
       "    </tr>\n",
       "    <tr>\n",
       "      <th>47</th>\n",
       "      <td>0</td>\n",
       "      <td>1467820206</td>\n",
       "      <td>Mon Apr 06 22:22:13 PDT 2009</td>\n",
       "      <td>NO_QUERY</td>\n",
       "      <td>peacoats</td>\n",
       "      <td>[strangely, sad, lilo, samro, breaking, up]</td>\n",
       "    </tr>\n",
       "    <tr>\n",
       "      <th>48</th>\n",
       "      <td>0</td>\n",
       "      <td>1467820835</td>\n",
       "      <td>Mon Apr 06 22:22:25 PDT 2009</td>\n",
       "      <td>NO_QUERY</td>\n",
       "      <td>cyantist</td>\n",
       "      <td>[oh, im, sorry, didnt, think, retweeting]</td>\n",
       "    </tr>\n",
       "    <tr>\n",
       "      <th>49</th>\n",
       "      <td>0</td>\n",
       "      <td>1467820863</td>\n",
       "      <td>Mon Apr 06 22:22:23 PDT 2009</td>\n",
       "      <td>NO_QUERY</td>\n",
       "      <td>tautao</td>\n",
       "      <td>[broadband, plan, a, massive, broken, promise,...</td>\n",
       "    </tr>\n",
       "  </tbody>\n",
       "</table>\n",
       "</div>"
      ],
      "text/plain": [
       "    label          id                     timestamp  no_query  \\\n",
       "0       0  1467810672  Mon Apr 06 22:19:49 PDT 2009  NO_QUERY   \n",
       "1       0  1467810917  Mon Apr 06 22:19:53 PDT 2009  NO_QUERY   \n",
       "2       0  1467811184  Mon Apr 06 22:19:57 PDT 2009  NO_QUERY   \n",
       "3       0  1467811193  Mon Apr 06 22:19:57 PDT 2009  NO_QUERY   \n",
       "4       0  1467811372  Mon Apr 06 22:20:00 PDT 2009  NO_QUERY   \n",
       "5       0  1467811592  Mon Apr 06 22:20:03 PDT 2009  NO_QUERY   \n",
       "6       0  1467811594  Mon Apr 06 22:20:03 PDT 2009  NO_QUERY   \n",
       "7       0  1467811795  Mon Apr 06 22:20:05 PDT 2009  NO_QUERY   \n",
       "8       0  1467812025  Mon Apr 06 22:20:09 PDT 2009  NO_QUERY   \n",
       "9       0  1467812416  Mon Apr 06 22:20:16 PDT 2009  NO_QUERY   \n",
       "10      0  1467812579  Mon Apr 06 22:20:17 PDT 2009  NO_QUERY   \n",
       "11      0  1467812723  Mon Apr 06 22:20:19 PDT 2009  NO_QUERY   \n",
       "12      0  1467812771  Mon Apr 06 22:20:19 PDT 2009  NO_QUERY   \n",
       "13      0  1467812784  Mon Apr 06 22:20:20 PDT 2009  NO_QUERY   \n",
       "14      0  1467812799  Mon Apr 06 22:20:20 PDT 2009  NO_QUERY   \n",
       "15      0  1467812964  Mon Apr 06 22:20:22 PDT 2009  NO_QUERY   \n",
       "16      0  1467813137  Mon Apr 06 22:20:25 PDT 2009  NO_QUERY   \n",
       "17      0  1467813579  Mon Apr 06 22:20:31 PDT 2009  NO_QUERY   \n",
       "18      0  1467813782  Mon Apr 06 22:20:34 PDT 2009  NO_QUERY   \n",
       "19      0  1467813985  Mon Apr 06 22:20:37 PDT 2009  NO_QUERY   \n",
       "20      0  1467813992  Mon Apr 06 22:20:38 PDT 2009  NO_QUERY   \n",
       "21      0  1467814119  Mon Apr 06 22:20:40 PDT 2009  NO_QUERY   \n",
       "22      0  1467814180  Mon Apr 06 22:20:40 PDT 2009  NO_QUERY   \n",
       "23      0  1467814192  Mon Apr 06 22:20:41 PDT 2009  NO_QUERY   \n",
       "24      0  1467814438  Mon Apr 06 22:20:44 PDT 2009  NO_QUERY   \n",
       "25      0  1467814783  Mon Apr 06 22:20:50 PDT 2009  NO_QUERY   \n",
       "26      0  1467814883  Mon Apr 06 22:20:52 PDT 2009  NO_QUERY   \n",
       "27      0  1467815199  Mon Apr 06 22:20:56 PDT 2009  NO_QUERY   \n",
       "28      0  1467815753  Mon Apr 06 22:21:04 PDT 2009  NO_QUERY   \n",
       "29      0  1467815923  Mon Apr 06 22:21:07 PDT 2009  NO_QUERY   \n",
       "30      0  1467815924  Mon Apr 06 22:21:07 PDT 2009  NO_QUERY   \n",
       "31      0  1467815988  Mon Apr 06 22:21:09 PDT 2009  NO_QUERY   \n",
       "32      0  1467816149  Mon Apr 06 22:21:11 PDT 2009  NO_QUERY   \n",
       "33      0  1467816665  Mon Apr 06 22:21:21 PDT 2009  NO_QUERY   \n",
       "34      0  1467816749  Mon Apr 06 22:21:20 PDT 2009  NO_QUERY   \n",
       "35      0  1467817225  Mon Apr 06 22:21:27 PDT 2009  NO_QUERY   \n",
       "36      0  1467817374  Mon Apr 06 22:21:30 PDT 2009  NO_QUERY   \n",
       "37      0  1467817502  Mon Apr 06 22:21:32 PDT 2009  NO_QUERY   \n",
       "38      0  1467818007  Mon Apr 06 22:21:39 PDT 2009  NO_QUERY   \n",
       "39      0  1467818020  Mon Apr 06 22:21:39 PDT 2009  NO_QUERY   \n",
       "40      0  1467818481  Mon Apr 06 22:21:46 PDT 2009  NO_QUERY   \n",
       "41      0  1467818603  Mon Apr 06 22:21:49 PDT 2009  NO_QUERY   \n",
       "42      0  1467818900  Mon Apr 06 22:21:53 PDT 2009  NO_QUERY   \n",
       "43      0  1467819022  Mon Apr 06 22:21:56 PDT 2009  NO_QUERY   \n",
       "44      0  1467819650  Mon Apr 06 22:22:05 PDT 2009  NO_QUERY   \n",
       "45      0  1467819712  Mon Apr 06 22:22:06 PDT 2009  NO_QUERY   \n",
       "46      0  1467819812  Mon Apr 06 22:22:07 PDT 2009  NO_QUERY   \n",
       "47      0  1467820206  Mon Apr 06 22:22:13 PDT 2009  NO_QUERY   \n",
       "48      0  1467820835  Mon Apr 06 22:22:25 PDT 2009  NO_QUERY   \n",
       "49      0  1467820863  Mon Apr 06 22:22:23 PDT 2009  NO_QUERY   \n",
       "\n",
       "           username                                              tweet  \n",
       "0     scotthamilton  [upset, cant, update, facebook, texting, it, m...  \n",
       "1          mattycus  [i, dived, many, times, ball, managed, save, 0...  \n",
       "2           ElleCTF            [whole, body, feels, itchy, like, fire]  \n",
       "3            Karoli  [no, its, not, behaving, all, im, mad, here, i...  \n",
       "4          joy_wolf                                 [not, whole, crew]  \n",
       "5           mybirch                                        [need, hug]  \n",
       "6              coZZ  [hey, long, time, no, see, yes, rains, bit, on...  \n",
       "7   2Hood4Hollywood                                      [nope, didnt]  \n",
       "8           mimismo                                       [que, muera]  \n",
       "9    erinx3leannexo         [spring, break, plain, city, its, snowing]  \n",
       "10     pardonlauren                               [i, repierced, ears]  \n",
       "11             TLeC  [i, couldnt, bear, watch, it, and, i, thought,...  \n",
       "12  robrobbierobert  [it, counts, idk, i, either, never, talk, anym...  \n",
       "13      bayofwolves  [wouldve, first, but, didnt, gun, not, really,...  \n",
       "14       HairByJess   [i, wish, i, got, watch, you, i, miss, premiere]  \n",
       "15   lovesongwriter  [hollis, death, scene, hurt, severely, watch, ...  \n",
       "16         armotley                                      [file, taxes]  \n",
       "17       starkissed  [ahh, ive, always, wanted, see, rent, love, so...  \n",
       "18        gi_gi_bee  [oh, dear, were, drinking, forgotten, table, d...  \n",
       "19           quanvu                      [day, didnt, get, much, done]  \n",
       "20       swinspeedx  [one, friend, called, me, asked, meet, mid, va...  \n",
       "21        cooliodoc                     [i, baked, cake, but, i, ated]  \n",
       "22       viJILLante                          [week, not, going, hoped]  \n",
       "23       Ljelli3166                           [blagh, class, tomorrow]  \n",
       "24    ChicagoCubbie                   [i, hate, i, call, wake, people]  \n",
       "25      KatieAngell    [just, going, cry, sleep, watching, marley, me]  \n",
       "26            gagoo                               [im, sad, misslilly]  \n",
       "27          abel209  [ooooh, lol, leslie, ok, i, wont, leslie, wont...  \n",
       "28  BaptisteTheFool  [meh, almost, lover, exception, track, gets, d...  \n",
       "29        fatkat309       [some, hacked, account, aim, make, new, one]  \n",
       "30            EmCDL  [i, want, go, promote, gear, and, groove, but,...  \n",
       "31         merisssa  [thought, sleeping, option, tomorrow, but, rea...  \n",
       "32         Pbearfox                             [awe, love, too, miss]  \n",
       "33             jsoo                [i, cry, asian, eyes, sleep, night]  \n",
       "34   scarletletterm  [ok, im, sick, spent, hour, sitting, shower, c...  \n",
       "35      crosland_12  [ill, tell, ya, story, later, not, good, day, ...  \n",
       "36          ajaxpro                      [sorry, bed, time, came, gmt]  \n",
       "37          Tmttq86  [i, dont, either, its, depressing, i, dont, th...  \n",
       "38   Anthony_Nguyen  [bed, class, work, gym, then, class, 0, anothe...  \n",
       "39       itsanimesh  [really, dont, feel, like, getting, today, but...  \n",
       "40        lionslamb  [hes, reason, teardrops, guitar, one, enough, ...  \n",
       "41        kennypham  [sad, sad, sad, i, dont, know, but, i, hate, f...  \n",
       "42   DdubsShellBell  [awww, i, soo, wish, i, see, finally, comforta...  \n",
       "43      hpfangirl94  [falling, asleep, just, heard, tracy, girls, b...  \n",
       "44        antzpantz  [yay, im, happy, job, but, also, means, less, ...  \n",
       "45        labrt2004  [just, checked, user, timeline, blackberry, lo...  \n",
       "46        IrisJumbe  [oh, manwas, ironing, fave, top, wear, meeting...  \n",
       "47         peacoats        [strangely, sad, lilo, samro, breaking, up]  \n",
       "48         cyantist          [oh, im, sorry, didnt, think, retweeting]  \n",
       "49           tautao  [broadband, plan, a, massive, broken, promise,...  "
      ]
     },
     "execution_count": 42,
     "metadata": {},
     "output_type": "execute_result"
    }
   ],
   "source": [
    "data.head(50)"
   ]
  },
  {
   "attachments": {
    "image.png": {
     "image/png": "[encoded data removed]"
    }
   },
   "cell_type": "markdown",
   "id": "62b05a11",
   "metadata": {},
   "source": [
    "#### Stemming: \n",
    "- Might be preferred in applications where speed is crucial and a slight loss of accuracy is acceptable (e.g., in some information retrieval systems or when dealing with very large datasets).   \n",
    "![image.png](attachment:image.png)\n",
    "\n",
    "#### Lemmatization: \n",
    "- Process: Lemmatization is a more sophisticated process that uses a vocabulary (like WordNet) and morphological analysis to determine the base or dictionary form of a word, which is known as the lemma.\n",
    "\n",
    " \n",
    "- Is generally preferred when the meaning of the word is important for downstream tasks, such as in chatbots, machine translation, text summarization, and sentiment analysis where understanding the context is key.\n",
    "\n",
    "   \n",
    "\n"
   ]
  },
  {
   "cell_type": "code",
   "execution_count": 43,
   "id": "c56990e9",
   "metadata": {},
   "outputs": [
    {
     "data": {
      "text/plain": [
       "(1599999, 6)"
      ]
     },
     "execution_count": 43,
     "metadata": {},
     "output_type": "execute_result"
    }
   ],
   "source": [
    "data.shape"
   ]
  },
  {
   "cell_type": "markdown",
   "id": "28dff5cd",
   "metadata": {},
   "source": [
    "## Part 3: Further Text Transformation"
   ]
  },
  {
   "cell_type": "code",
   "execution_count": 47,
   "id": "43857cdb-0ed9-4de8-b28b-abcd5b651be8",
   "metadata": {},
   "outputs": [
    {
     "name": "stderr",
     "output_type": "stream",
     "text": [
      "[nltk_data] Downloading package averaged_perceptron_tagger_eng to\n",
      "[nltk_data]     C:\\Users\\HP-Miko\\AppData\\Roaming\\nltk_data...\n",
      "[nltk_data]   Unzipping taggers\\averaged_perceptron_tagger_eng.zip.\n"
     ]
    },
    {
     "data": {
      "text/plain": [
       "True"
      ]
     },
     "execution_count": 47,
     "metadata": {},
     "output_type": "execute_result"
    }
   ],
   "source": [
    "import nltk\n",
    "nltk.download('averaged_perceptron_tagger_eng')"
   ]
  },
  {
   "cell_type": "code",
   "execution_count": 48,
   "id": "d44c3f79",
   "metadata": {},
   "outputs": [],
   "source": [
    "# data2 = data.head(50)\n",
    "data['tweet'] = data['tweet'].apply(lambda x: lemmatizer_with_pos(x))\n",
    "# data['tweet'].head(50)"
   ]
  },
  {
   "cell_type": "code",
   "execution_count": 49,
   "id": "a11a7223",
   "metadata": {},
   "outputs": [
    {
     "data": {
      "text/plain": [
       "(1599999, 6)"
      ]
     },
     "execution_count": 49,
     "metadata": {},
     "output_type": "execute_result"
    }
   ],
   "source": [
    "data.shape"
   ]
  },
  {
   "cell_type": "code",
   "execution_count": null,
   "id": "6290914e",
   "metadata": {},
   "outputs": [],
   "source": [
    "#save the df to csv after all of these preprocessing\n",
    "# data.to_csv('cleaned_data.csv')"
   ]
  },
  {
   "cell_type": "code",
   "execution_count": 51,
   "id": "0cf8a44f-d67e-44f8-94c2-31d54912b608",
   "metadata": {},
   "outputs": [
    {
     "name": "stderr",
     "output_type": "stream",
     "text": [
      "[nltk_data] Downloading package punkt_tab to C:\\Users\\HP-\n",
      "[nltk_data]     Miko\\AppData\\Roaming\\nltk_data...\n",
      "[nltk_data]   Unzipping tokenizers\\punkt_tab.zip.\n"
     ]
    },
    {
     "data": {
      "text/plain": [
       "True"
      ]
     },
     "execution_count": 51,
     "metadata": {},
     "output_type": "execute_result"
    }
   ],
   "source": [
    "nltk.download('punkt_tab')"
   ]
  },
  {
   "cell_type": "code",
   "execution_count": 52,
   "id": "82aaf806",
   "metadata": {},
   "outputs": [
    {
     "name": "stdout",
     "output_type": "stream",
     "text": [
      "0    [-0.05897091, 0.7467163, 0.12007665, -0.089397...\n",
      "1    [-0.061586715, 0.7604908, 0.1392199, -0.104760...\n",
      "2    [-0.10851683, 0.7752616, 0.14976382, -0.104643...\n",
      "3    [-0.052161153, 0.7419824, 0.12117264, -0.12810...\n",
      "4    [-0.19041927, 0.8224487, 0.19883856, -0.129845...\n",
      "Name: embedding, dtype: object\n",
      "(50,)\n"
     ]
    }
   ],
   "source": [
    "# data = pd.read_csv('cleaned_data.csv')\n",
    "\n",
    "# Apply to your data\n",
    "data['embedding'] = data['tweet'].apply(lambda x: get_embedding(str(x)))\n",
    "\n",
    "# 'data['embedding']' now contains a vector for each tweet\n",
    "print(data['embedding'].head())\n",
    "print(data['embedding'][0].shape)"
   ]
  },
  {
   "cell_type": "code",
   "execution_count": 53,
   "id": "01a0d901-f577-44df-92cf-40053bf5cfc4",
   "metadata": {},
   "outputs": [],
   "source": [
    "data2 = data[['label','embedding']].copy()"
   ]
  },
  {
   "cell_type": "code",
   "execution_count": 54,
   "id": "427f8ab7-7ed1-4831-af7c-0a912cb3078f",
   "metadata": {},
   "outputs": [
    {
     "data": {
      "text/plain": [
       "<bound method NDFrame.head of          label                                          embedding\n",
       "0            0  [-0.05897091, 0.7467163, 0.12007665, -0.089397...\n",
       "1            0  [-0.061586715, 0.7604908, 0.1392199, -0.104760...\n",
       "2            0  [-0.10851683, 0.7752616, 0.14976382, -0.104643...\n",
       "3            0  [-0.052161153, 0.7419824, 0.12117264, -0.12810...\n",
       "4            0  [-0.19041927, 0.8224487, 0.19883856, -0.129845...\n",
       "...        ...                                                ...\n",
       "1599994      1  [-0.07834225, 0.7578769, 0.13168366, -0.095357...\n",
       "1599995      1  [-0.067673355, 0.78380316, 0.11528052, -0.1562...\n",
       "1599996      1  [-0.10851683, 0.7752616, 0.14976382, -0.104643...\n",
       "1599997      1  [-0.07834225, 0.7578769, 0.13168366, -0.095357...\n",
       "1599998      1  [-0.42702636, 0.9587667, 0.34061, -0.202653, 0...\n",
       "\n",
       "[1599999 rows x 2 columns]>"
      ]
     },
     "execution_count": 54,
     "metadata": {},
     "output_type": "execute_result"
    }
   ],
   "source": [
    "data2.head"
   ]
  },
  {
   "cell_type": "code",
   "execution_count": null,
   "id": "57783cdf",
   "metadata": {},
   "outputs": [],
   "source": [
    "# data.to_csv('ready_to_send_to_model_data.csv')"
   ]
  },
  {
   "cell_type": "code",
   "execution_count": 55,
   "id": "d29ccb99",
   "metadata": {},
   "outputs": [],
   "source": [
    "#save the data into numpy / pickle file\n",
    "data2.to_pickle('final cleaned data input.pkl')"
   ]
  },
  {
   "cell_type": "code",
   "execution_count": 2,
   "id": "cbde8f39",
   "metadata": {},
   "outputs": [],
   "source": [
    "data = pd.read_csv('ready_to_send_to_model_data.csv')"
   ]
  }
 ],
 "metadata": {
  "kernelspec": {
   "display_name": "Python 3 (ipykernel)",
   "language": "python",
   "name": "python3"
  },
  "language_info": {
   "codemirror_mode": {
    "name": "ipython",
    "version": 3
   },
   "file_extension": ".py",
   "mimetype": "text/x-python",
   "name": "python",
   "nbconvert_exporter": "python",
   "pygments_lexer": "ipython3",
   "version": "3.12.4"
  }
 },
 "nbformat": 4,
 "nbformat_minor": 5
}
